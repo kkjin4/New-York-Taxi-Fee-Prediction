{
  "nbformat": 4,
  "nbformat_minor": 0,
  "metadata": {
    "colab": {
      "name": "project3_template.ipynb",
      "provenance": [],
      "collapsed_sections": []
    },
    "kernelspec": {
      "name": "python3",
      "display_name": "Python 3"
    }
  },
  "cells": [
    {
      "cell_type": "markdown",
      "metadata": {
        "id": "U5JUMgc_gbHp"
      },
      "source": [
        "# CS145: Project 3 | Predicting Taxi Trip Tip Percentage in New York"
      ]
    },
    {
      "cell_type": "markdown",
      "metadata": {
        "id": "EHDiv4GrhofN"
      },
      "source": [
        "## Collaborators:\n",
        "Please list the names and SUNet IDs of your collaborators below:\n",
        "* *Jingxi Cai, harvec*\n",
        "* *Kaile JIN, kailejin*"
      ]
    },
    {
      "cell_type": "markdown",
      "metadata": {
        "id": "gMNQWFvSgepX"
      },
      "source": [
        "# Project Overview"
      ]
    },
    {
      "cell_type": "markdown",
      "metadata": {
        "id": "lX1Jkglwg1SI"
      },
      "source": [
        "---\n",
        "\n",
        "In this project, we analyzed the BigQuery dataset *new_york_taxi_trips* , which contains information on the total amount of a taxi trip for different taxies in different year. Additionally, the corresponding trip inforamtion is also provided, like the pickup time and location, dropoff time and location, the number of passengers, trip distance, base fares, taxi colors are also provided.\n",
        "\n",
        "\n",
        "The central question of this project is: Can we predict the tip percentage of a taxi trip based on factors such as time, zone, the number of passengers, trip distance, base fares, taxi colors, etc...\n",
        "\n",
        "\n",
        "To approach this question, we first set out to answer the following supplementary questions in order to determine the best features to use to predict tip amount:\n",
        "*   What is the correlation between the trip time and the tip percentage?\n",
        "*   What is the correlation between the trip distance and the tip percentage?\n",
        "*   What is the correlation between the trip speed and the tip percentage?\n",
        "*   What is the correlation between the taxi color and the tip percentage?\n",
        "*   What is the correlation between the pickup borough and dropoff boroughn with the tip percentage? \n",
        "*   What is the correlation between the passenger number and the tip percentage? \n",
        "*   What is the correlation between the season and the tip percentage? \n",
        "*   What is the correlation between the trip type and the tip percentage? \n",
        "\n",
        "---\n"
      ]
    },
    {
      "cell_type": "markdown",
      "metadata": {
        "id": "r_GvgTCcgv6N"
      },
      "source": [
        "# Analysis of Dataset"
      ]
    },
    {
      "cell_type": "markdown",
      "metadata": {
        "id": "c6wGQ8ZPgyuJ"
      },
      "source": [
        "---\n",
        "Our dataset is *new_york_taxi_trips* , which contains information about the taxi trips in New York. The tables included are:\n",
        "\n",
        "*   taxi_zone_geom: 2.49 MB -- This table contains the zone id,zone_name, borough and the\tGeometric outline of zone.\n",
        "*   *   Primary key: zone_name\n",
        "*   *   Foreign key: zone_id\n",
        "*   tlc_fhv_trips_2015: 3.12 GB -- The year of this taboe is too early and the number of features is small, so we didn't use it.\n",
        "*   tlc_fhv_trips_2016: 6.33 GB -- The same reason as above.\n",
        "*   tlc_fhv_trips_2017: 15.62 GB -- The same reason as above.\n",
        "*   tlc_green_trips_2014: 2.08 GB -- The year of this taboe is too early, so we didn't use it.\n",
        "*   tlc_green_trips_2015: 2.69 GB -- The same reason as above.\n",
        "*   tlc_green_trips_2016: 1.27 GB -- TThe same reason as above.\n",
        "*   tlc_green_trips_2017: 1.91 GB -- The same reason as above.\n",
        "*   tlc_green_trips_2018: 1.91 GB -- This is the main table contains trip information about green taxi. We are trying to measure how various features within this table (like time, zone, the number of passengers, trip distance, base fares, taxi colors) affect tip amount.\n",
        "*   *   Primary key: pickup_datetime\n",
        "*   *   Foreign key: zone_id\n",
        "*   tlc_yellow_trips_2015: 18.07 GB -- The year of this taboe is too early, so we didn't use it.\n",
        "*   tlc_yellow_trips_2016: 17.48 GB -- The same reason as above.\n",
        "*   tlc_yellow_trips_2017: 18.35 GB -- The same reason as above.\n",
        "*   tlc_yellow_trips_2018: 18.14 GB -- This is the table we use to measure the correlation between taxi colors(green, yellow) and the tip amount.\n",
        "*   *   Primary key: pickup_datetime\n",
        "*   *   Foreign key: zone_id\n",
        "\n",
        "As mentioned, we  explored the relationship between the relationship between the number of regions geo-targeted by the advertiser and the number of impressions. We joined *tlc_green_trips_2018* and *taxi_zone_geom* on the foreign key *zone_id* to relate these two tables.\n",
        "\n",
        "Beyond, we explored the relationship between various features and tip amount. We randomly choose 1000 data from *tlc_green_trips_2018* and *tlc_green_trips_2018* to compare the tip amount.\n",
        "\n",
        "----"
      ]
    },
    {
      "cell_type": "markdown",
      "metadata": {
        "id": "Fc_clta9g3H5"
      },
      "source": [
        "---\n",
        "# Data Exploration\n",
        "---"
      ]
    },
    {
      "cell_type": "markdown",
      "metadata": {
        "id": "aZQGRDOwk-Vb"
      },
      "source": [
        "Initialization of BigQuery and Matplotlib"
      ]
    },
    {
      "cell_type": "code",
      "metadata": {
        "id": "iTYZZK-lhCV9"
      },
      "source": [
        "# Run this cell to authenticate yourself to BigQuery\n",
        "from google.colab import auth\n",
        "auth.authenticate_user()\n",
        "project_id = \"my-project-ml-331322\""
      ],
      "execution_count": null,
      "outputs": []
    },
    {
      "cell_type": "code",
      "metadata": {
        "id": "uIY7-6-thFc-"
      },
      "source": [
        "# Initialize BiqQuery client\n",
        "from google.cloud import bigquery\n",
        "client = bigquery.Client(project=project_id)"
      ],
      "execution_count": null,
      "outputs": []
    },
    {
      "cell_type": "code",
      "metadata": {
        "id": "tMv2j4FQlGLG"
      },
      "source": [
        "import matplotlib.pyplot as plt\n",
        "import pandas\n",
        "%matplotlib inline"
      ],
      "execution_count": null,
      "outputs": []
    },
    {
      "cell_type": "markdown",
      "metadata": {
        "id": "_G4MW_g9FBBC"
      },
      "source": [
        "### 1. Trip Time vs. Tip Percentage"
      ]
    },
    {
      "cell_type": "markdown",
      "metadata": {
        "id": "2D8Nxhg1lLof"
      },
      "source": [
        "We analyzed the correlation between the length of trip time and the tip percentage in the *tlc_green_trips_2018* table.\n",
        "\n",
        "After plotting the results of our query, we see that with the trip time increase, the tip percentage first decrease, then increase, finally decrease. It seems that there is some possible correlation between trip time and tip percentage.\n",
        "\n",
        "We draw the bar plot and scatter plot to see which can show the more intuitive information."
      ]
    },
    {
      "cell_type": "markdown",
      "metadata": {
        "id": "u3RVR48yV-XH"
      },
      "source": [
        "* Bar plot "
      ]
    },
    {
      "cell_type": "code",
      "metadata": {
        "id": "aLhOINL1maCb"
      },
      "source": [
        "%%bigquery --project $project_id a0a\n",
        "\n",
        "SELECT\n",
        "  (CASE\n",
        "      WHEN time_length BETWEEN 0 AND 50 THEN 1\n",
        "      WHEN time_length BETWEEN 50 AND 100 THEN 2\n",
        "      WHEN time_length BETWEEN 100 AND 150 THEN 3\n",
        "      WHEN time_length BETWEEN 150 AND 200 THEN 4\n",
        "      ELSE 5\n",
        "      END\n",
        "      ) AS label,\n",
        "  AVG(tip_percentage) AS tip_percentage\n",
        "FROM (\n",
        "  SELECT\n",
        "    TIMESTAMP_DIFF(dropoff_datetime,pickup_datetime, minute) AS time_length,\n",
        "    tip_amount/fare_amount AS tip_percentage\n",
        "  FROM\n",
        "    `bigquery-public-data.new_york_taxi_trips.tlc_green_trips_2018` TABLESAMPLE SYSTEM(0.01 PERCENT)\n",
        "  WHERE\n",
        "    fare_amount IS NOT NULL\n",
        "    AND fare_amount !=0\n",
        "    AND tip_amount/fare_amount < 1)\n",
        "GROUP BY\n",
        "  label"
      ],
      "execution_count": null,
      "outputs": []
    },
    {
      "cell_type": "code",
      "metadata": {
        "id": "DGHkn9MC5C2z",
        "colab": {
          "base_uri": "https://localhost:8080/",
          "height": 478
        },
        "outputId": "41cd5dde-b63a-4c2f-f8d0-e3859e8c9715"
      },
      "source": [
        "plt.figure(1,figsize=(10,7))\n",
        "plt.bar(a0a[\"label\"], a0a[\"tip_percentage\"])\n",
        "plt.title(\"Trip time related to tip_percentage\")\n",
        "plt.xlabel(\"Trip time\",fontsize =12)\n",
        "plt.ylabel(\"Tip percentage\", fontsize =12)"
      ],
      "execution_count": null,
      "outputs": [
        {
          "output_type": "execute_result",
          "data": {
            "text/plain": [
              "Text(0, 0.5, 'Tip percentage')"
            ]
          },
          "metadata": {},
          "execution_count": 5
        },
        {
          "output_type": "display_data",
          "data": {
            "image/png": "[encoded data removed]",
            "text/plain": [
              "<Figure size 720x504 with 1 Axes>"
            ]
          },
          "metadata": {
            "needs_background": "light"
          }
        }
      ]
    },
    {
      "cell_type": "markdown",
      "metadata": {
        "id": "MjTSxtGXWLAb"
      },
      "source": [
        "* Scatter Plot"
      ]
    },
    {
      "cell_type": "code",
      "metadata": {
        "id": "BzcnbD3jVxDa"
      },
      "source": [
        "%%bigquery --project $project_id a1a\n",
        "\n",
        "SELECT\n",
        "  TIMESTAMP_DIFF(dropoff_datetime,pickup_datetime, minute) AS time_length,\n",
        "  tip_amount/fare_amount AS tip_percentage\n",
        "FROM\n",
        "  `bigquery-public-data.new_york_taxi_trips.tlc_green_trips_2018` TABLESAMPLE SYSTEM(0.01 PERCENT)\n",
        "WHERE\n",
        "  fare_amount IS NOT NULL\n",
        "  AND fare_amount!=0"
      ],
      "execution_count": null,
      "outputs": []
    },
    {
      "cell_type": "code",
      "metadata": {
        "colab": {
          "base_uri": "https://localhost:8080/",
          "height": 478
        },
        "id": "y6CL405FV21J",
        "outputId": "a2706ad4-e95c-42e8-81cd-b33d3489c4a5"
      },
      "source": [
        "plt.figure(1,figsize=(10,7))\n",
        "plt.scatter(a1a[\"time_length\"], a1a[\"tip_percentage\"])\n",
        "plt.xlim(0,200)\n",
        "plt.ylim(0,1)\n",
        "plt.title(\"Trip time related to tip_percentage\")\n",
        "plt.xlabel(\"Trip time\",fontsize =12)\n",
        "plt.ylabel(\"Tip percentage\", fontsize =12)"
      ],
      "execution_count": null,
      "outputs": [
        {
          "output_type": "execute_result",
          "data": {
            "text/plain": [
              "Text(0, 0.5, 'Tip percentage')"
            ]
          },
          "metadata": {},
          "execution_count": 8
        },
        {
          "output_type": "display_data",
          "data": {
            "image/png": "[encoded data removed]",
            "text/plain": [
              "<Figure size 720x504 with 1 Axes>"
            ]
          },
          "metadata": {
            "needs_background": "light"
          }
        }
      ]
    },
    {
      "cell_type": "markdown",
      "metadata": {
        "id": "pBqMbd7MXd-J"
      },
      "source": [
        "We can see from the above two graphs, the bar plot separate the trip time and the tip percentage, which show us a clearer correlation. "
      ]
    },
    {
      "cell_type": "markdown",
      "metadata": {
        "id": "IA-EcbcfFgsn"
      },
      "source": [
        "### 2. Trip Distance vs. Tip Amount"
      ]
    },
    {
      "cell_type": "markdown",
      "metadata": {
        "id": "Bfxjw42LajsK"
      },
      "source": [
        "We analyzed the correlation between the distance of trip time and the tip percentage in the *tlc_green_trips_2018* table.\n",
        "\n",
        "In our query, we grouped by the trip distance type, which was divided into 4 type from 0-2, 2-4, 4-6, and else, and labels them as 1, 2, 3, 4, respectively. \n",
        "\n",
        "\n",
        "One possible explanation is that those who choose to take a taxi instead of walking even if the trip distance is veryvery short are those who pursue speed and efficiency and is rich, so they are willing to pay more money to save time and effect, while for those who travel for a long trip distance, they might think the taxi driver is tired for such a long time, thus they paid more. And the remaining part is the normal people who pay the normal tip percentage.\n",
        "\n",
        "We draw the bar plot and scatter plot to see which can show the more intuitive information."
      ]
    },
    {
      "cell_type": "markdown",
      "metadata": {
        "id": "Shap6zuzWxuS"
      },
      "source": [
        "* Bar Plot"
      ]
    },
    {
      "cell_type": "code",
      "metadata": {
        "id": "tfr7IgLn5HLw"
      },
      "source": [
        "%%bigquery --project $project_id a9a\n",
        "\n",
        "SELECT\n",
        "  (CASE\n",
        "      WHEN trip_distance BETWEEN 0 AND 2 THEN 1\n",
        "      WHEN trip_distance BETWEEN 2 AND 4 THEN 2\n",
        "      WHEN trip_distance BETWEEN 4 AND 6 THEN 3\n",
        "      ELSE 4\n",
        "      END\n",
        "      ) AS label,\n",
        "    AVG(tip_amount/fare_amount) AS tip_percentage\n",
        "  FROM\n",
        "    `bigquery-public-data.new_york_taxi_trips.tlc_green_trips_2018` TABLESAMPLE SYSTEM(0.01 PERCENT)\n",
        "  WHERE\n",
        "    fare_amount IS NOT NULL\n",
        "    AND fare_amount !=0\n",
        "    AND tip_amount/fare_amount < 1\n",
        "GROUP BY\n",
        "  label"
      ],
      "execution_count": null,
      "outputs": []
    },
    {
      "cell_type": "code",
      "metadata": {
        "id": "BhVTbvAG5IVJ",
        "colab": {
          "base_uri": "https://localhost:8080/",
          "height": 478
        },
        "outputId": "b0f34312-69ae-494a-aca3-f683df9aed34"
      },
      "source": [
        "plt.figure(1,figsize=(10,7))\n",
        "plt.bar(a9a[\"label\"], a9a[\"tip_percentage\"])\n",
        "plt.ylim(0.05)\n",
        "plt.title(\"Trip time related to tip_percentage\")\n",
        "plt.xlabel(\"Trip distance\",fontsize =12)\n",
        "plt.ylabel(\"Tip percentage\", fontsize =12)"
      ],
      "execution_count": null,
      "outputs": [
        {
          "output_type": "execute_result",
          "data": {
            "text/plain": [
              "Text(0, 0.5, 'Tip percentage')"
            ]
          },
          "metadata": {},
          "execution_count": 11
        },
        {
          "output_type": "display_data",
          "data": {
            "image/png": "[encoded data removed]",
            "text/plain": [
              "<Figure size 720x504 with 1 Axes>"
            ]
          },
          "metadata": {
            "needs_background": "light"
          }
        }
      ]
    },
    {
      "cell_type": "markdown",
      "metadata": {
        "id": "lKEwO1SSW1mS"
      },
      "source": [
        "* Scatter Plot"
      ]
    },
    {
      "cell_type": "code",
      "metadata": {
        "id": "KQYPkL8WWuoV"
      },
      "source": [
        "%%bigquery --project $project_id a1b\n",
        "\n",
        "# YOUR QUERY HERE\n",
        "\n",
        "SELECT\n",
        "  trip_distance,\n",
        "  tip_amount/fare_amount AS tip_percentage\n",
        "FROM\n",
        "  `bigquery-public-data.new_york_taxi_trips.tlc_green_trips_2018` TABLESAMPLE SYSTEM(0.01 PERCENT)\n",
        "WHERE\n",
        "  fare_amount IS NOT NULL\n",
        "  AND fare_amount!=0"
      ],
      "execution_count": null,
      "outputs": []
    },
    {
      "cell_type": "code",
      "metadata": {
        "colab": {
          "base_uri": "https://localhost:8080/",
          "height": 478
        },
        "id": "o8ZZlNg6W8GO",
        "outputId": "62ef1219-f53e-4f35-c835-dc14475615f3"
      },
      "source": [
        "plt.figure(1,figsize=(10,7))\n",
        "plt.scatter(a1b[\"trip_distance\"], a1b[\"tip_percentage\"])\n",
        "plt.xlim(0,20)\n",
        "plt.ylim(0,1)\n",
        "plt.title(\"Trip time related to tip_percentage\")\n",
        "plt.xlabel(\"trip_distance\",fontsize =12)\n",
        "plt.ylabel(\"Tip percentage\", fontsize =12)"
      ],
      "execution_count": null,
      "outputs": [
        {
          "output_type": "execute_result",
          "data": {
            "text/plain": [
              "Text(0, 0.5, 'Tip percentage')"
            ]
          },
          "metadata": {},
          "execution_count": 12
        },
        {
          "output_type": "display_data",
          "data": {
            "image/png": "[encoded data removed]",
            "text/plain": [
              "<Figure size 720x504 with 1 Axes>"
            ]
          },
          "metadata": {
            "needs_background": "light"
          }
        }
      ]
    },
    {
      "cell_type": "markdown",
      "metadata": {
        "id": "d2nWgUXnYWdN"
      },
      "source": [
        "We can see from the above two graphs, the bar plot separate the trip time and the tip percentage, which show us a clearer correlation. "
      ]
    },
    {
      "cell_type": "markdown",
      "metadata": {
        "id": "oTVyvwW2Fg1_"
      },
      "source": [
        "### 3. Trip Speed vs. Tip Amount"
      ]
    },
    {
      "cell_type": "markdown",
      "metadata": {
        "id": "nRaJGk-lD8Y7"
      },
      "source": [
        "\n",
        "We analyzed the correlation between the speed and the tip percentage in the *tlc_green_trips_2018* table.\n",
        "\n",
        "In our query, we grouped by the speed, which was divided into 4 types from 0-0.2, 0.2-0.4, 0.4-0.6, and else, and labels them as 1, 2, 3, 4, respectively. \n",
        "\n",
        "In the visualization, we can see that with the speed increase, the tip percentage first increase, then decrease. And a speed between 0.2-0.4 has the highest tip percentage. \n",
        "\n",
        "One possible explanation is that a low speed probably means there is a traffic congestion or the driver drive a car in slow speed for some reasons, which give the passenger a bad trip experience, while for high speed, the taxi trip may be unsafety and panic for the passenger, thus the tip percentage is also low. The remaining part is those with a proper speed, thus the tip percentage is the highest.\n",
        "\n",
        "We draw the bar plot and scatter plot to see which can show the more intuitive information."
      ]
    },
    {
      "cell_type": "markdown",
      "metadata": {
        "id": "8cVLJHLGXIOs"
      },
      "source": [
        "* Bar Plot"
      ]
    },
    {
      "cell_type": "code",
      "metadata": {
        "id": "ldXWwu4k5TmP"
      },
      "source": [
        "%%bigquery --project $project_id a8a\n",
        "\n",
        "SELECT\n",
        "  (CASE\n",
        "      WHEN trip_distance/time_length BETWEEN 0 AND 0.2 THEN 1\n",
        "      WHEN trip_distance/time_length BETWEEN 0.2 AND 0.4 THEN 2\n",
        "      WHEN trip_distance/time_length BETWEEN 0.4 AND 0.6 THEN 3\n",
        "      ELSE 4\n",
        "      END\n",
        "      ) AS label,\n",
        "      AVG(a.tip_percentage) AS tip_percentage\n",
        "FROM (\n",
        "  SELECT\n",
        "    trip_distance,\n",
        "    TIMESTAMP_DIFF(dropoff_datetime,pickup_datetime, minute) AS time_length,\n",
        "    tip_amount/fare_amount AS tip_percentage\n",
        "  FROM\n",
        "    `bigquery-public-data.new_york_taxi_trips.tlc_green_trips_2018` TABLESAMPLE SYSTEM(0.01 PERCENT)\n",
        "  WHERE\n",
        "    fare_amount IS NOT NULL\n",
        "    AND fare_amount!=0 ) a\n",
        "WHERE\n",
        "  time_length IS NOT NULL\n",
        "  AND time_length != 0\n",
        "  AND a.tip_percentage < 1\n",
        "GROUP BY\n",
        "  label"
      ],
      "execution_count": null,
      "outputs": []
    },
    {
      "cell_type": "code",
      "metadata": {
        "id": "g5SBtqWN5cR8",
        "colab": {
          "base_uri": "https://localhost:8080/",
          "height": 478
        },
        "outputId": "df876465-3854-416b-f5e4-57388bfd98dc"
      },
      "source": [
        "plt.figure(1,figsize=(10,7))\n",
        "plt.bar(a8a[\"label\"], a8a[\"tip_percentage\"])\n",
        "plt.ylim(0.04)\n",
        "plt.title(\"Trip time related to tip_percentage\")\n",
        "plt.xlabel(\"Trip speed\",fontsize =12)\n",
        "plt.ylabel(\"Tip percentage\", fontsize =12)"
      ],
      "execution_count": null,
      "outputs": [
        {
          "output_type": "execute_result",
          "data": {
            "text/plain": [
              "Text(0, 0.5, 'Tip percentage')"
            ]
          },
          "metadata": {},
          "execution_count": 14
        },
        {
          "output_type": "display_data",
          "data": {
            "image/png": "[encoded data removed]",
            "text/plain": [
              "<Figure size 720x504 with 1 Axes>"
            ]
          },
          "metadata": {
            "needs_background": "light"
          }
        }
      ]
    },
    {
      "cell_type": "markdown",
      "metadata": {
        "id": "H81CQqd4XM1X"
      },
      "source": [
        "* Scatter Plot"
      ]
    },
    {
      "cell_type": "code",
      "metadata": {
        "id": "g53xy10_XPFs"
      },
      "source": [
        "%%bigquery --project $project_id a1c\n",
        "\n",
        "# YOUR QUERY HERE\n",
        "\n",
        "SELECT\n",
        "  trip_distance/time_length AS speed,\n",
        "  a.tip_percentage\n",
        "FROM (\n",
        "  SELECT\n",
        "    trip_distance,\n",
        "    TIMESTAMP_DIFF(dropoff_datetime,pickup_datetime, minute) AS time_length,\n",
        "    tip_amount/fare_amount AS tip_percentage\n",
        "  FROM\n",
        "    `bigquery-public-data.new_york_taxi_trips.tlc_green_trips_2018` TABLESAMPLE SYSTEM(0.01 PERCENT)\n",
        "  WHERE\n",
        "    fare_amount IS NOT NULL\n",
        "    AND fare_amount!=0 ) a\n",
        "WHERE\n",
        "  time_length IS NOT NULL\n",
        "  AND time_length != 0"
      ],
      "execution_count": null,
      "outputs": []
    },
    {
      "cell_type": "code",
      "metadata": {
        "colab": {
          "base_uri": "https://localhost:8080/",
          "height": 478
        },
        "id": "K-DJjfjfXUB5",
        "outputId": "8d0f379d-6978-450f-fb6e-6c3d30418d5a"
      },
      "source": [
        "plt.figure(1,figsize=(10,7))\n",
        "plt.scatter(a1c[\"speed\"], a1c[\"tip_percentage\"])\n",
        "plt.xlim(0,2)\n",
        "plt.ylim(0,1)\n",
        "plt.title(\"Trip time related to tip_percentage\")\n",
        "plt.xlabel(\"Speed\",fontsize =12)\n",
        "plt.ylabel(\"Tip percentage\", fontsize =12)"
      ],
      "execution_count": null,
      "outputs": [
        {
          "output_type": "execute_result",
          "data": {
            "text/plain": [
              "Text(0, 0.5, 'Tip percentage')"
            ]
          },
          "metadata": {},
          "execution_count": 16
        },
        {
          "output_type": "display_data",
          "data": {
            "image/png": "[encoded data removed]",
            "text/plain": [
              "<Figure size 720x504 with 1 Axes>"
            ]
          },
          "metadata": {
            "needs_background": "light"
          }
        }
      ]
    },
    {
      "cell_type": "markdown",
      "metadata": {
        "id": "5dD9fXbSYY5w"
      },
      "source": [
        "We can see from the above two graphs, the bar plot separate the trip time and the tip percentage, which show us a clearer correlation. "
      ]
    },
    {
      "cell_type": "markdown",
      "metadata": {
        "id": "7ig430B0Fg5d"
      },
      "source": [
        "### 4. Taxi Color vs. Tip Percent"
      ]
    },
    {
      "cell_type": "markdown",
      "metadata": {
        "id": "_g7MUDr2EY5-"
      },
      "source": [
        "We Inspected the influence of the genre of taxis on the tip percent, which is indicated by the color of the taxi. As the yellow indicates it is an official taxi and the green indicates it is an street-hail livery.\n",
        "\n",
        "We used the query to calculate the average tip percent for both taxis respectively in 2018. A visualization of the results is shown below. The average tip percent of the green taxi is around 9% and that of the yellow taxi is around 16% percent. The difference is very significant, which suggests that there is a strong correlation between the taxi color and the tip percent, and it could be a useful feature."
      ]
    },
    {
      "cell_type": "code",
      "metadata": {
        "id": "Msk_6JECyCmz"
      },
      "source": [
        "%%bigquery --project $project_id taxi_color\n",
        "\n",
        "SELECT \"green taxi\" as color, ROUND(AVG(tip_amount/fare_amount) * 100, 2) as avg_tip_percent \n",
        "FROM `bigquery-public-data.new_york_taxi_trips.tlc_green_trips_2018` \n",
        "WHERE fare_amount is not NULL and fare_amount != 0\n",
        "UNION ALL \n",
        "SELECT \"yellow taxi\" as color, ROUND(AVG(tip_amount/fare_amount) * 100, 2) as avg_tip_percent \n",
        "FROM `bigquery-public-data.new_york_taxi_trips.tlc_yellow_trips_2018` \n",
        "WHERE fare_amount is not NULL and fare_amount != 0"
      ],
      "execution_count": null,
      "outputs": []
    },
    {
      "cell_type": "code",
      "metadata": {
        "id": "KbSrYroWXe3v",
        "colab": {
          "base_uri": "https://localhost:8080/",
          "height": 367
        },
        "outputId": "48cbb87d-d9df-45c1-84bd-0b3ab4feb53f"
      },
      "source": [
        "plt.figure(figsize=(5,5))\n",
        "plt.bar(taxi_color[\"color\"], taxi_color[\"avg_tip_percent\"])\n",
        "plt.title(\"Taxi Color vs. Tip Percent\")\n",
        "plt.xlabel(\"Taxi Color\")\n",
        "plt.ylabel(\"Average Tip Percent\")"
      ],
      "execution_count": null,
      "outputs": [
        {
          "output_type": "execute_result",
          "data": {
            "text/plain": [
              "Text(0, 0.5, 'Average Tip Percent')"
            ]
          },
          "metadata": {},
          "execution_count": 19
        },
        {
          "output_type": "display_data",
          "data": {
            "image/png": "[encoded data removed]",
            "text/plain": [
              "<Figure size 360x360 with 1 Axes>"
            ]
          },
          "metadata": {
            "needs_background": "light"
          }
        }
      ]
    },
    {
      "cell_type": "markdown",
      "metadata": {
        "id": "yOzv2ef4Fg8j"
      },
      "source": [
        "### 5. Pickup Borough and Dropoff Borough vs. Tip Percent"
      ]
    },
    {
      "cell_type": "markdown",
      "metadata": {
        "id": "ihijhT3THAxm"
      },
      "source": [
        "We then tried to see if the regions where the taxis are based make a obvious difference in terms of the tip percent. Because we do not have the travel routes as available information, we decided to only examine the pickup borough and dropoff borough.\n",
        "\n",
        "To see the relations, we calculated the average tip percent based on the pickup boroughs and dropoff boroughs and order them in increasing order. We found a big rise in the tip percent in the EWR borough as the pickup borough, which is very reasonable, since the drivers are likely to help the passengers with carrying the luggage and other possible errands, which could be highly appreciated by the passengers. And the overall tip percentage is the lowest in boroughs like the Bronx, State Island and Queens.\n",
        "\n",
        "One thing to notice is that, when we later calculate the tip percentage in the dropoff region sections (details are shown later), we found a few outliers that reaches over 4000% as the tip percentage, which is a very abnormal amount. Hence, we then consider any tip percentage that exceeds 100% to be an outlier. And we inspected the relations both including the outliers and excluding them and show both the results. The overall trend is still obvious, but there is a minor decrease in the difference between consecutive regions. \n",
        "\n"
      ]
    },
    {
      "cell_type": "code",
      "metadata": {
        "id": "BgMSI0eoXcbQ"
      },
      "source": [
        "%%bigquery --project $project_id pickup_borough1\n",
        "\n",
        "SELECT borough, ROUND(AVG(tip_amount/fare_amount) * 100, 2) as avg_tip_percent \n",
        "FROM \n",
        "    (`bigquery-public-data.new_york_taxi_trips.tlc_green_trips_2018` trips\n",
        "    JOIN `bigquery-public-data.new_york_taxi_trips.taxi_zone_geom` zones\n",
        "    ON trips.pickup_location_id = zones.zone_id)\n",
        "WHERE fare_amount is not NULL and fare_amount > 0\n",
        "GROUP BY borough\n",
        "ORDER BY avg_tip_percent"
      ],
      "execution_count": null,
      "outputs": []
    },
    {
      "cell_type": "code",
      "metadata": {
        "colab": {
          "base_uri": "https://localhost:8080/",
          "height": 367
        },
        "id": "IriH2gg-XcbR",
        "outputId": "9ec0a90d-a1de-47cd-ae7e-939c58cbb732"
      },
      "source": [
        "plt.figure(figsize=(10,5))\n",
        "plt.bar(pickup_borough1[\"borough\"], pickup_borough1[\"avg_tip_percent\"])\n",
        "plt.title(\"Pickup Borough vs. Tip Percent (outlier included)\")\n",
        "plt.xlabel(\"Pickup Borough\")\n",
        "plt.ylabel(\"Average Tip Percent\")"
      ],
      "execution_count": null,
      "outputs": [
        {
          "output_type": "execute_result",
          "data": {
            "text/plain": [
              "Text(0, 0.5, 'Average Tip Percent')"
            ]
          },
          "metadata": {},
          "execution_count": 21
        },
        {
          "output_type": "display_data",
          "data": {
            "image/png": "[encoded data removed]",
            "text/plain": [
              "<Figure size 720x360 with 1 Axes>"
            ]
          },
          "metadata": {
            "needs_background": "light"
          }
        }
      ]
    },
    {
      "cell_type": "markdown",
      "metadata": {
        "id": "c2W3dUSpjI7Z"
      },
      "source": [
        "Based on the findings in the dropoff borough calculation, we decided to perform another query and exclude the outliers this time. And the general relations still remain valid."
      ]
    },
    {
      "cell_type": "code",
      "metadata": {
        "id": "qMG50St9jY1y"
      },
      "source": [
        "%%bigquery --project $project_id pickup_borough2\n",
        "\n",
        "SELECT borough, ROUND(AVG(tip_amount/fare_amount) * 100, 2) as avg_tip_percent \n",
        "FROM \n",
        "    (`bigquery-public-data.new_york_taxi_trips.tlc_green_trips_2018` trips\n",
        "    JOIN `bigquery-public-data.new_york_taxi_trips.taxi_zone_geom` zones\n",
        "    ON trips.pickup_location_id = zones.zone_id)\n",
        "WHERE fare_amount is not NULL and fare_amount > 0 and tip_amount/fare_amount < 1\n",
        "GROUP BY borough\n",
        "ORDER BY avg_tip_percent"
      ],
      "execution_count": null,
      "outputs": []
    },
    {
      "cell_type": "code",
      "metadata": {
        "colab": {
          "base_uri": "https://localhost:8080/",
          "height": 367
        },
        "id": "_sjYmXxfjY1y",
        "outputId": "7fe9e5b9-8741-4ab1-cca4-b0ffd6899d66"
      },
      "source": [
        "plt.figure(figsize=(10,5))\n",
        "plt.bar(pickup_borough2[\"borough\"], pickup_borough2[\"avg_tip_percent\"])\n",
        "plt.title(\"Pickup Borough vs. Tip Percent (outlier excluded)\")\n",
        "plt.xlabel(\"Pickup Borough\")\n",
        "plt.ylabel(\"Average Tip Percent\")"
      ],
      "execution_count": null,
      "outputs": [
        {
          "output_type": "execute_result",
          "data": {
            "text/plain": [
              "Text(0, 0.5, 'Average Tip Percent')"
            ]
          },
          "metadata": {},
          "execution_count": 23
        },
        {
          "output_type": "display_data",
          "data": {
            "image/png": "[encoded data removed]",
            "text/plain": [
              "<Figure size 720x360 with 1 Axes>"
            ]
          },
          "metadata": {
            "needs_background": "light"
          }
        }
      ]
    },
    {
      "cell_type": "markdown",
      "metadata": {
        "id": "T7UQQygCLml0"
      },
      "source": [
        "We then inspected the effect of dropoff borough on the average tip percent. There is a abnormally strong correlation, especially for the EWR region. Then we inspected the reason for this abnormality by taking a closer look at the dataset and found out that there are 8 datapoints with tip percentage ranging from 568% to 4600% with the same fare amount of 2.5$, and there the next highest tip percent if 42%, which is much smaller than 568%. So we considered these 8 datapoints at outliers and filtered out all the tip percentage greater than 100% in our later calculations. "
      ]
    },
    {
      "cell_type": "code",
      "metadata": {
        "id": "JWdlmdtCcD_9"
      },
      "source": [
        "%%bigquery --project $project_id dropoff_borough1\n",
        "\n",
        "SELECT borough, ROUND(AVG(tip_amount/fare_amount) * 100, 2) as avg_tip_percent \n",
        "FROM \n",
        "    (`bigquery-public-data.new_york_taxi_trips.tlc_green_trips_2018` trips\n",
        "    JOIN `bigquery-public-data.new_york_taxi_trips.taxi_zone_geom` zones\n",
        "    ON trips.dropoff_location_id = zones.zone_id)\n",
        "WHERE fare_amount is not NULL and fare_amount > 0 \n",
        "GROUP BY borough\n",
        "ORDER BY avg_tip_percent"
      ],
      "execution_count": null,
      "outputs": []
    },
    {
      "cell_type": "code",
      "metadata": {
        "colab": {
          "base_uri": "https://localhost:8080/",
          "height": 367
        },
        "id": "bAOacT09cD_-",
        "outputId": "891356b4-a541-4e09-80f7-45f54d6ada3c"
      },
      "source": [
        "plt.figure(figsize=(10,5))\n",
        "plt.bar(dropoff_borough1[\"borough\"], dropoff_borough1[\"avg_tip_percent\"])\n",
        "plt.title(\"Dropoff Borough vs. Tip Percent (outlier included)\")\n",
        "plt.xlabel(\"Dropoff Borough\")\n",
        "plt.ylabel(\"Average Tip Percent\")"
      ],
      "execution_count": null,
      "outputs": [
        {
          "output_type": "execute_result",
          "data": {
            "text/plain": [
              "Text(0, 0.5, 'Average Tip Percent')"
            ]
          },
          "metadata": {},
          "execution_count": 25
        },
        {
          "output_type": "display_data",
          "data": {
            "image/png": "[encoded data removed]",
            "text/plain": [
              "<Figure size 720x360 with 1 Axes>"
            ]
          },
          "metadata": {
            "needs_background": "light"
          }
        }
      ]
    },
    {
      "cell_type": "markdown",
      "metadata": {
        "id": "qrVNI_Rgfd50"
      },
      "source": [
        "The inspection of the dataset for the abnormality is shown below."
      ]
    },
    {
      "cell_type": "code",
      "metadata": {
        "colab": {
          "base_uri": "https://localhost:8080/",
          "height": 359
        },
        "id": "TrkqBr5zfEIE",
        "outputId": "11f1f3f8-ca3d-4bfc-b6e6-c77de0cf335e"
      },
      "source": [
        "%%bigquery --project $project_id\n",
        "\n",
        "SELECT borough, ROUND((tip_amount/fare_amount) * 100, 2) percent, tip_amount, fare_amount\n",
        "FROM \n",
        "    (`bigquery-public-data.new_york_taxi_trips.tlc_green_trips_2018` trips\n",
        "    JOIN `bigquery-public-data.new_york_taxi_trips.taxi_zone_geom` zones\n",
        "    ON trips.dropoff_location_id = zones.zone_id)\n",
        "where borough = \"EWR\"\n",
        "ORDER BY percent DESC\n",
        "LIMIT 10\n"
      ],
      "execution_count": null,
      "outputs": [
        {
          "output_type": "execute_result",
          "data": {
            "text/html": [
              "<div>\n",
              "<style scoped>\n",
              "    .dataframe tbody tr th:only-of-type {\n",
              "        vertical-align: middle;\n",
              "    }\n",
              "\n",
              "    .dataframe tbody tr th {\n",
              "        vertical-align: top;\n",
              "    }\n",
              "\n",
              "    .dataframe thead th {\n",
              "        text-align: right;\n",
              "    }\n",
              "</style>\n",
              "<table border=\"1\" class=\"dataframe\">\n",
              "  <thead>\n",
              "    <tr style=\"text-align: right;\">\n",
              "      <th></th>\n",
              "      <th>borough</th>\n",
              "      <th>percent</th>\n",
              "      <th>tip_amount</th>\n",
              "      <th>fare_amount</th>\n",
              "    </tr>\n",
              "  </thead>\n",
              "  <tbody>\n",
              "    <tr>\n",
              "      <th>0</th>\n",
              "      <td>EWR</td>\n",
              "      <td>4600</td>\n",
              "      <td>115</td>\n",
              "      <td>2.5</td>\n",
              "    </tr>\n",
              "    <tr>\n",
              "      <th>1</th>\n",
              "      <td>EWR</td>\n",
              "      <td>4160</td>\n",
              "      <td>104</td>\n",
              "      <td>2.5</td>\n",
              "    </tr>\n",
              "    <tr>\n",
              "      <th>2</th>\n",
              "      <td>EWR</td>\n",
              "      <td>3200</td>\n",
              "      <td>80</td>\n",
              "      <td>2.5</td>\n",
              "    </tr>\n",
              "    <tr>\n",
              "      <th>3</th>\n",
              "      <td>EWR</td>\n",
              "      <td>3200</td>\n",
              "      <td>80</td>\n",
              "      <td>2.5</td>\n",
              "    </tr>\n",
              "    <tr>\n",
              "      <th>4</th>\n",
              "      <td>EWR</td>\n",
              "      <td>2200</td>\n",
              "      <td>55</td>\n",
              "      <td>2.5</td>\n",
              "    </tr>\n",
              "    <tr>\n",
              "      <th>5</th>\n",
              "      <td>EWR</td>\n",
              "      <td>800</td>\n",
              "      <td>20</td>\n",
              "      <td>2.5</td>\n",
              "    </tr>\n",
              "    <tr>\n",
              "      <th>6</th>\n",
              "      <td>EWR</td>\n",
              "      <td>680</td>\n",
              "      <td>17</td>\n",
              "      <td>2.5</td>\n",
              "    </tr>\n",
              "    <tr>\n",
              "      <th>7</th>\n",
              "      <td>EWR</td>\n",
              "      <td>568</td>\n",
              "      <td>14.2</td>\n",
              "      <td>2.5</td>\n",
              "    </tr>\n",
              "    <tr>\n",
              "      <th>8</th>\n",
              "      <td>EWR</td>\n",
              "      <td>42.86</td>\n",
              "      <td>30</td>\n",
              "      <td>70</td>\n",
              "    </tr>\n",
              "    <tr>\n",
              "      <th>9</th>\n",
              "      <td>EWR</td>\n",
              "      <td>38.76</td>\n",
              "      <td>25</td>\n",
              "      <td>64.5</td>\n",
              "    </tr>\n",
              "  </tbody>\n",
              "</table>\n",
              "</div>"
            ],
            "text/plain": [
              "  borough percent tip_amount fare_amount\n",
              "0     EWR    4600        115         2.5\n",
              "1     EWR    4160        104         2.5\n",
              "2     EWR    3200         80         2.5\n",
              "3     EWR    3200         80         2.5\n",
              "4     EWR    2200         55         2.5\n",
              "5     EWR     800         20         2.5\n",
              "6     EWR     680         17         2.5\n",
              "7     EWR     568       14.2         2.5\n",
              "8     EWR   42.86         30          70\n",
              "9     EWR   38.76         25        64.5"
            ]
          },
          "metadata": {},
          "execution_count": 26
        }
      ]
    },
    {
      "cell_type": "markdown",
      "metadata": {
        "id": "FGddxPbvPaPs"
      },
      "source": [
        "After we filtered out the outliers (tip percentage greater than 100%), the results seemed a lot more reasonable. And we could see that there is still a coorelation between dropoff regions and the tip percent, with EWR still being the highest and Bronx the lowest."
      ]
    },
    {
      "cell_type": "code",
      "metadata": {
        "id": "oKSVH3p8iLhH"
      },
      "source": [
        "%%bigquery --project $project_id dropoff_borough2\n",
        "\n",
        "SELECT borough, ROUND(AVG(tip_amount/fare_amount) * 100, 2) as avg_tip_percent \n",
        "FROM \n",
        "    (`bigquery-public-data.new_york_taxi_trips.tlc_green_trips_2018` trips\n",
        "    JOIN `bigquery-public-data.new_york_taxi_trips.taxi_zone_geom` zones\n",
        "    ON trips.dropoff_location_id = zones.zone_id)\n",
        "WHERE fare_amount is not NULL and fare_amount > 0 and tip_amount/fare_amount < 1\n",
        "GROUP BY borough\n",
        "ORDER BY avg_tip_percent"
      ],
      "execution_count": null,
      "outputs": []
    },
    {
      "cell_type": "code",
      "metadata": {
        "colab": {
          "base_uri": "https://localhost:8080/",
          "height": 367
        },
        "id": "3MIbB8wiiLhT",
        "outputId": "2b4125b7-8487-4049-c260-0d16b689a847"
      },
      "source": [
        "plt.figure(figsize=(10,5))\n",
        "plt.bar(dropoff_borough2[\"borough\"], dropoff_borough2[\"avg_tip_percent\"])\n",
        "plt.title(\"Dropoff Borough vs. Tip Percent (outlier excluded)\")\n",
        "plt.xlabel(\"Dropoff Borough\")\n",
        "plt.ylabel(\"Average Tip Percent\")"
      ],
      "execution_count": null,
      "outputs": [
        {
          "output_type": "execute_result",
          "data": {
            "text/plain": [
              "Text(0, 0.5, 'Average Tip Percent')"
            ]
          },
          "metadata": {},
          "execution_count": 28
        },
        {
          "output_type": "display_data",
          "data": {
            "image/png": "[encoded data removed]",
            "text/plain": [
              "<Figure size 720x360 with 1 Axes>"
            ]
          },
          "metadata": {
            "needs_background": "light"
          }
        }
      ]
    },
    {
      "cell_type": "markdown",
      "metadata": {
        "id": "I4LU5jS2F4_B"
      },
      "source": [
        "### 6. Passenger Count vs. Tip Percent\n"
      ]
    },
    {
      "cell_type": "markdown",
      "metadata": {
        "id": "fh4AqUZyQuvv"
      },
      "source": [
        "We also wanted to see if the number of passengers could affect the tip percent of a taxi trip for any possible social or psychlogical reasons. We grouped the trips by the number of passengers per trip and calculated the average tip percentage. A visualization is shown below.\n",
        "\n",
        "There is not a visible trend of their correlations as the variation of tip percent versus the passenger count is pretty random."
      ]
    },
    {
      "cell_type": "code",
      "metadata": {
        "id": "svjkKIGIkIxF"
      },
      "source": [
        "%%bigquery --project $project_id passenger_count\n",
        "\n",
        "SELECT passenger_count, ROUND(AVG(tip_amount/fare_amount) * 100, 2) as avg_tip_percent\n",
        "FROM `bigquery-public-data.new_york_taxi_trips.tlc_green_trips_2018` trips\n",
        "WHERE fare_amount is not NULL and fare_amount > 0 and tip_amount/fare_amount < 1\n",
        "GROUP BY passenger_count"
      ],
      "execution_count": null,
      "outputs": []
    },
    {
      "cell_type": "code",
      "metadata": {
        "colab": {
          "base_uri": "https://localhost:8080/",
          "height": 367
        },
        "id": "h6w6Do8ekIxG",
        "outputId": "bf80b935-f948-4091-ade2-9a4aab7328ff"
      },
      "source": [
        "plt.figure(figsize=(10,5))\n",
        "plt.bar(passenger_count[\"passenger_count\"], passenger_count[\"avg_tip_percent\"])\n",
        "plt.title(\"Passenger Count vs. Tip Percent (outlier excluded)\")\n",
        "plt.xlabel(\"Passenger Count\")\n",
        "plt.ylabel(\"Average Tip Percent\")"
      ],
      "execution_count": null,
      "outputs": [
        {
          "output_type": "execute_result",
          "data": {
            "text/plain": [
              "Text(0, 0.5, 'Average Tip Percent')"
            ]
          },
          "metadata": {},
          "execution_count": 30
        },
        {
          "output_type": "display_data",
          "data": {
            "image/png": "[encoded data removed]",
            "text/plain": [
              "<Figure size 720x360 with 1 Axes>"
            ]
          },
          "metadata": {
            "needs_background": "light"
          }
        }
      ]
    },
    {
      "cell_type": "markdown",
      "metadata": {
        "id": "j1sy0OiIK-KI"
      },
      "source": [
        "### 7. Season vs. Tip Percent"
      ]
    },
    {
      "cell_type": "markdown",
      "metadata": {
        "id": "SW0vE1Tqt_A0"
      },
      "source": [
        "Since season is usually a very important part of business, especially in the service industries, we determined it to be a potentially powerful feature. Fortunately, the dataset contains the pickup_time for the trip, which is enough information for us to determine the season when each trip happens. We split the dataset into 4 seasons based on the dates and calculated the average tip percentage for each season. A visualization of the results is shown below.\n",
        "\n",
        "The average tip percent increases in the order of summer, fall, spring, winter, which exactly corresponded to the temperature of these four seasons in decreasing order. Therefore, such variations could be attributed to the weather. As the weather becomes colder, passengers are more likely to appreciate the warm environments of taxis and therefore tend to tip higher. "
      ]
    },
    {
      "cell_type": "code",
      "metadata": {
        "id": "tXhx7o7JtvdG"
      },
      "source": [
        "%%bigquery --project $project_id season\n",
        "\n",
        "SELECT\n",
        "(CASE\n",
        "WHEN pickup_datetime BETWEEN \"2018-03-20\" And \"2018-06-20\" THEN \"Spring\"\n",
        "WHEN pickup_datetime BETWEEN \"2018-06-22\" And \"2018-09-21\" THEN \"Summer\"\n",
        "WHEN pickup_datetime BETWEEN \"2018-09-22\" And \"2018-12-22\" THEN \"Fall\"\n",
        "ELSE \"Winter\"\n",
        "END) AS season, ROUND(AVG(tip_amount/fare_amount) * 100, 2) as avg_tip_percent\n",
        "FROM `bigquery-public-data.new_york_taxi_trips.tlc_green_trips_2018` trips\n",
        "WHERE fare_amount is not NULL and fare_amount > 0 and tip_amount/fare_amount < 1\n",
        "GROUP BY season"
      ],
      "execution_count": null,
      "outputs": []
    },
    {
      "cell_type": "code",
      "metadata": {
        "colab": {
          "base_uri": "https://localhost:8080/",
          "height": 367
        },
        "id": "r0pY64svt1yW",
        "outputId": "23fc789b-a421-4100-8101-315de5997428"
      },
      "source": [
        "plt.figure(figsize=(10,5))\n",
        "plt.bar(season[\"season\"], season[\"avg_tip_percent\"])\n",
        "plt.title(\"Season vs. Tip Percent (outlier excluded)\")\n",
        "plt.ylim(7.8)\n",
        "plt.xlabel(\"Season\")\n",
        "plt.ylabel(\"Average Tip Percent\")"
      ],
      "execution_count": null,
      "outputs": [
        {
          "output_type": "execute_result",
          "data": {
            "text/plain": [
              "Text(0, 0.5, 'Average Tip Percent')"
            ]
          },
          "metadata": {},
          "execution_count": 32
        },
        {
          "output_type": "display_data",
          "data": {
            "image/png": "[encoded data removed]",
            "text/plain": [
              "<Figure size 720x360 with 1 Axes>"
            ]
          },
          "metadata": {
            "needs_background": "light"
          }
        }
      ]
    },
    {
      "cell_type": "markdown",
      "metadata": {
        "id": "l1IS9fzgUt7p"
      },
      "source": [
        "### 8. Trip Type vs. Tip Percent"
      ]
    },
    {
      "cell_type": "markdown",
      "metadata": {
        "id": "OpHsYAaKSpJ2"
      },
      "source": [
        "Finally we considered the feature of trip type. The dataset have 2 different trip types, which are \"Street-hail\" and \"Dispatch\".\n",
        "\n",
        "We calculated the average tip percentage of two different types of trips, the results show that the average tip percentage (around 8%) for the \"Street-hail\" type trip is much higher than that of the \"Dispatch\" type (around 2%). Therefore, we consider it as a potential feature for the prediction."
      ]
    },
    {
      "cell_type": "code",
      "metadata": {
        "id": "fntLmp5Owp83"
      },
      "source": [
        "%%bigquery --project $project_id trip_type\n",
        "\n",
        "SELECT\n",
        "(CASE\n",
        "WHEN trip_type = \"1\" THEN \"Street-hail\"\n",
        "ELSE \"Dispatch\"\n",
        "END) AS trip_type, ROUND(AVG(tip_amount/fare_amount) * 100, 2) as avg_tip_percent\n",
        "FROM `bigquery-public-data.new_york_taxi_trips.tlc_green_trips_2018` trips\n",
        "WHERE trip_type is not NULL and \n",
        "      fare_amount is not NULL and fare_amount > 0 and \n",
        "      tip_amount/fare_amount < 1\n",
        "GROUP BY trip_type"
      ],
      "execution_count": null,
      "outputs": []
    },
    {
      "cell_type": "code",
      "metadata": {
        "colab": {
          "base_uri": "https://localhost:8080/",
          "height": 367
        },
        "id": "PTqNMTF-wvY9",
        "outputId": "7704d139-8e6c-47ce-91c9-4346094d2c07"
      },
      "source": [
        "plt.figure(figsize=(5,5))\n",
        "plt.bar(trip_type[\"trip_type\"], trip_type[\"avg_tip_percent\"])\n",
        "plt.title(\"Trip Type vs. Tip Percent (outlier excluded)\")\n",
        "plt.xlabel(\"Trip Type\")\n",
        "plt.ylabel(\"Average Tip Percent\")"
      ],
      "execution_count": null,
      "outputs": [
        {
          "output_type": "execute_result",
          "data": {
            "text/plain": [
              "Text(0, 0.5, 'Average Tip Percent')"
            ]
          },
          "metadata": {},
          "execution_count": 34
        },
        {
          "output_type": "display_data",
          "data": {
            "image/png": "[encoded data removed]",
            "text/plain": [
              "<Figure size 360x360 with 1 Axes>"
            ]
          },
          "metadata": {
            "needs_background": "light"
          }
        }
      ]
    },
    {
      "cell_type": "markdown",
      "metadata": {
        "id": "NhFSJifsiC1U"
      },
      "source": [
        "---\n",
        "# Data Prediction\n",
        "---\n"
      ]
    },
    {
      "cell_type": "markdown",
      "metadata": {
        "id": "7p2jrzZQzJwp"
      },
      "source": [
        "In this section we tried two types of models: a regression model that predicts a numerical results and a classifier that divides the tip percent into 2 catogories \"High\" and \"Low\" with a threshold of 5%.\n",
        "\n",
        "For the numerical model, we used the metric of Mean Absolute Error, and for the classifier, we adopted the metrics of Accuracy and Precision."
      ]
    },
    {
      "cell_type": "markdown",
      "metadata": {
        "id": "an612y5UqxIC"
      },
      "source": [
        "### Feature Selection"
      ]
    },
    {
      "cell_type": "markdown",
      "metadata": {
        "id": "WNho-PKYI1E6"
      },
      "source": [
        "According to the Data Exploration section, out of all the features we inspected, the ones that have a corelation with the tip percentage are:\n",
        "\n",
        "1.   Trip Time\n",
        "2.   Trip Distance\n",
        "3.   Trip Speed\n",
        "4.   Pickup Borough\n",
        "5.   Dropoff Borough\n",
        "6.   Taxi Color\n",
        "7.   Season\n",
        "8.   Trip Type\n",
        "\n",
        "\n",
        "Because the overall dataset is enormous, we limited our prediction to only the green taxis, so we excluded **5. Taxi Color** from our feature selection. \n",
        "Since we can calculate the any one of the features from **1. Trip Time 2. Trip Distance 3. Trip Speed** once we have any two of them, we decided to exclude the **1. Trip Time** because the trend identified in its visualization is more complex and vague, which might not be helpful for the predictions. Moreover, the **3. Pickup Borough** and **4. Dropoff Borough** produce very similar trends, we will only considered one of these two features to cut off unnecessary calculations for the model. After comparing the graphs corresponding to both of the features, we decided that the **3. Pickup Borough** had a higher predicting power, so this feature is chosen.\n",
        "\n",
        "After removing 2 uncessary features, the model will include 5 features for predictions:\n",
        "\n",
        "1.   Trip Distance\n",
        "2.   Trip Speed\n",
        "3.   (Pickup) Borough\n",
        "4.   Season\n",
        "5.   Trip Type\n",
        "\n"
      ]
    },
    {
      "cell_type": "markdown",
      "metadata": {
        "id": "Lck-08D6tYtA"
      },
      "source": [
        "### Data Split"
      ]
    },
    {
      "cell_type": "markdown",
      "metadata": {
        "id": "i3z3hHt3tfZW"
      },
      "source": [
        "We splited the data around the afternoon time into training, validation and test set based on the pickup time of each trip. We selected the training data range to be from 13:00 -14:00, the validation range to be from 14:00 -15:00, and the test range to be from 15:00 -16:00.\n",
        "\n",
        "For the prediction on unseen data, we considered the data after 20:00. Because all of the data the model seen was from the afternoon, it did not contain any information about the tip percentage in the night. And we checked the performance of the model at night in the prediction section."
      ]
    },
    {
      "cell_type": "markdown",
      "metadata": {
        "id": "I3rcFm3M7ize"
      },
      "source": [
        "### Create a dataset to store the model"
      ]
    },
    {
      "cell_type": "code",
      "metadata": {
        "id": "kdYtm3lc7gxv",
        "colab": {
          "base_uri": "https://localhost:8080/",
          "height": 358
        },
        "outputId": "bd38d60c-ea93-4b43-a4c3-83b98c29844e"
      },
      "source": [
        "# Run this cell to create a dataset to store your model, or create in the UI\n",
        "\n",
        "model_dataset_name = 'NY_taxi_tip'\n",
        "dataset = bigquery.Dataset(client.dataset(model_dataset_name))\n",
        "dataset.location = 'US'\n",
        "client.create_dataset(dataset)"
      ],
      "execution_count": null,
      "outputs": [
        {
          "output_type": "error",
          "ename": "Conflict",
          "evalue": "ignored",
          "traceback": [
            "\u001b[0;31m---------------------------------------------------------------------------\u001b[0m",
            "\u001b[0;31mConflict\u001b[0m                                  Traceback (most recent call last)",
            "\u001b[0;32m<ipython-input-18-504bf882937f>\u001b[0m in \u001b[0;36m<module>\u001b[0;34m()\u001b[0m\n\u001b[1;32m      4\u001b[0m \u001b[0mdataset\u001b[0m \u001b[0;34m=\u001b[0m \u001b[0mbigquery\u001b[0m\u001b[0;34m.\u001b[0m\u001b[0mDataset\u001b[0m\u001b[0;34m(\u001b[0m\u001b[0mclient\u001b[0m\u001b[0;34m.\u001b[0m\u001b[0mdataset\u001b[0m\u001b[0;34m(\u001b[0m\u001b[0mmodel_dataset_name\u001b[0m\u001b[0;34m)\u001b[0m\u001b[0;34m)\u001b[0m\u001b[0;34m\u001b[0m\u001b[0;34m\u001b[0m\u001b[0m\n\u001b[1;32m      5\u001b[0m \u001b[0mdataset\u001b[0m\u001b[0;34m.\u001b[0m\u001b[0mlocation\u001b[0m \u001b[0;34m=\u001b[0m \u001b[0;34m'US'\u001b[0m\u001b[0;34m\u001b[0m\u001b[0;34m\u001b[0m\u001b[0m\n\u001b[0;32m----> 6\u001b[0;31m \u001b[0mclient\u001b[0m\u001b[0;34m.\u001b[0m\u001b[0mcreate_dataset\u001b[0m\u001b[0;34m(\u001b[0m\u001b[0mdataset\u001b[0m\u001b[0;34m)\u001b[0m\u001b[0;34m\u001b[0m\u001b[0;34m\u001b[0m\u001b[0m\n\u001b[0m",
            "\u001b[0;32m/usr/local/lib/python3.7/dist-packages/google/cloud/bigquery/client.py\u001b[0m in \u001b[0;36mcreate_dataset\u001b[0;34m(self, dataset, exists_ok, retry)\u001b[0m\n\u001b[1;32m    390\u001b[0m \u001b[0;34m\u001b[0m\u001b[0m\n\u001b[1;32m    391\u001b[0m         \u001b[0;32mtry\u001b[0m\u001b[0;34m:\u001b[0m\u001b[0;34m\u001b[0m\u001b[0;34m\u001b[0m\u001b[0m\n\u001b[0;32m--> 392\u001b[0;31m             \u001b[0mapi_response\u001b[0m \u001b[0;34m=\u001b[0m \u001b[0mself\u001b[0m\u001b[0;34m.\u001b[0m\u001b[0m_call_api\u001b[0m\u001b[0;34m(\u001b[0m\u001b[0mretry\u001b[0m\u001b[0;34m,\u001b[0m \u001b[0mmethod\u001b[0m\u001b[0;34m=\u001b[0m\u001b[0;34m\"POST\"\u001b[0m\u001b[0;34m,\u001b[0m \u001b[0mpath\u001b[0m\u001b[0;34m=\u001b[0m\u001b[0mpath\u001b[0m\u001b[0;34m,\u001b[0m \u001b[0mdata\u001b[0m\u001b[0;34m=\u001b[0m\u001b[0mdata\u001b[0m\u001b[0;34m)\u001b[0m\u001b[0;34m\u001b[0m\u001b[0;34m\u001b[0m\u001b[0m\n\u001b[0m\u001b[1;32m    393\u001b[0m             \u001b[0;32mreturn\u001b[0m \u001b[0mDataset\u001b[0m\u001b[0;34m.\u001b[0m\u001b[0mfrom_api_repr\u001b[0m\u001b[0;34m(\u001b[0m\u001b[0mapi_response\u001b[0m\u001b[0;34m)\u001b[0m\u001b[0;34m\u001b[0m\u001b[0;34m\u001b[0m\u001b[0m\n\u001b[1;32m    394\u001b[0m         \u001b[0;32mexcept\u001b[0m \u001b[0mgoogle\u001b[0m\u001b[0;34m.\u001b[0m\u001b[0mapi_core\u001b[0m\u001b[0;34m.\u001b[0m\u001b[0mexceptions\u001b[0m\u001b[0;34m.\u001b[0m\u001b[0mConflict\u001b[0m\u001b[0;34m:\u001b[0m\u001b[0;34m\u001b[0m\u001b[0;34m\u001b[0m\u001b[0m\n",
            "\u001b[0;32m/usr/local/lib/python3.7/dist-packages/google/cloud/bigquery/client.py\u001b[0m in \u001b[0;36m_call_api\u001b[0;34m(self, retry, **kwargs)\u001b[0m\n\u001b[1;32m    474\u001b[0m         \u001b[0;32mif\u001b[0m \u001b[0mretry\u001b[0m\u001b[0;34m:\u001b[0m\u001b[0;34m\u001b[0m\u001b[0;34m\u001b[0m\u001b[0m\n\u001b[1;32m    475\u001b[0m             \u001b[0mcall\u001b[0m \u001b[0;34m=\u001b[0m \u001b[0mretry\u001b[0m\u001b[0;34m(\u001b[0m\u001b[0mcall\u001b[0m\u001b[0;34m)\u001b[0m\u001b[0;34m\u001b[0m\u001b[0;34m\u001b[0m\u001b[0m\n\u001b[0;32m--> 476\u001b[0;31m         \u001b[0;32mreturn\u001b[0m \u001b[0mcall\u001b[0m\u001b[0;34m(\u001b[0m\u001b[0;34m)\u001b[0m\u001b[0;34m\u001b[0m\u001b[0;34m\u001b[0m\u001b[0m\n\u001b[0m\u001b[1;32m    477\u001b[0m \u001b[0;34m\u001b[0m\u001b[0m\n\u001b[1;32m    478\u001b[0m     \u001b[0;32mdef\u001b[0m \u001b[0mget_dataset\u001b[0m\u001b[0;34m(\u001b[0m\u001b[0mself\u001b[0m\u001b[0;34m,\u001b[0m \u001b[0mdataset_ref\u001b[0m\u001b[0;34m,\u001b[0m \u001b[0mretry\u001b[0m\u001b[0;34m=\u001b[0m\u001b[0mDEFAULT_RETRY\u001b[0m\u001b[0;34m)\u001b[0m\u001b[0;34m:\u001b[0m\u001b[0;34m\u001b[0m\u001b[0;34m\u001b[0m\u001b[0m\n",
            "\u001b[0;32m/usr/local/lib/python3.7/dist-packages/google/api_core/retry.py\u001b[0m in \u001b[0;36mretry_wrapped_func\u001b[0;34m(*args, **kwargs)\u001b[0m\n\u001b[1;32m    284\u001b[0m                 \u001b[0msleep_generator\u001b[0m\u001b[0;34m,\u001b[0m\u001b[0;34m\u001b[0m\u001b[0;34m\u001b[0m\u001b[0m\n\u001b[1;32m    285\u001b[0m                 \u001b[0mself\u001b[0m\u001b[0;34m.\u001b[0m\u001b[0m_deadline\u001b[0m\u001b[0;34m,\u001b[0m\u001b[0;34m\u001b[0m\u001b[0;34m\u001b[0m\u001b[0m\n\u001b[0;32m--> 286\u001b[0;31m                 \u001b[0mon_error\u001b[0m\u001b[0;34m=\u001b[0m\u001b[0mon_error\u001b[0m\u001b[0;34m,\u001b[0m\u001b[0;34m\u001b[0m\u001b[0;34m\u001b[0m\u001b[0m\n\u001b[0m\u001b[1;32m    287\u001b[0m             )\n\u001b[1;32m    288\u001b[0m \u001b[0;34m\u001b[0m\u001b[0m\n",
            "\u001b[0;32m/usr/local/lib/python3.7/dist-packages/google/api_core/retry.py\u001b[0m in \u001b[0;36mretry_target\u001b[0;34m(target, predicate, sleep_generator, deadline, on_error)\u001b[0m\n\u001b[1;32m    182\u001b[0m     \u001b[0;32mfor\u001b[0m \u001b[0msleep\u001b[0m \u001b[0;32min\u001b[0m \u001b[0msleep_generator\u001b[0m\u001b[0;34m:\u001b[0m\u001b[0;34m\u001b[0m\u001b[0;34m\u001b[0m\u001b[0m\n\u001b[1;32m    183\u001b[0m         \u001b[0;32mtry\u001b[0m\u001b[0;34m:\u001b[0m\u001b[0;34m\u001b[0m\u001b[0;34m\u001b[0m\u001b[0m\n\u001b[0;32m--> 184\u001b[0;31m             \u001b[0;32mreturn\u001b[0m \u001b[0mtarget\u001b[0m\u001b[0;34m(\u001b[0m\u001b[0;34m)\u001b[0m\u001b[0;34m\u001b[0m\u001b[0;34m\u001b[0m\u001b[0m\n\u001b[0m\u001b[1;32m    185\u001b[0m \u001b[0;34m\u001b[0m\u001b[0m\n\u001b[1;32m    186\u001b[0m         \u001b[0;31m# pylint: disable=broad-except\u001b[0m\u001b[0;34m\u001b[0m\u001b[0;34m\u001b[0m\u001b[0;34m\u001b[0m\u001b[0m\n",
            "\u001b[0;32m/usr/local/lib/python3.7/dist-packages/google/cloud/_http.py\u001b[0m in \u001b[0;36mapi_request\u001b[0;34m(self, method, path, query_params, data, content_type, headers, api_base_url, api_version, expect_json, _target_object)\u001b[0m\n\u001b[1;32m    391\u001b[0m \u001b[0;34m\u001b[0m\u001b[0m\n\u001b[1;32m    392\u001b[0m         \u001b[0;32mif\u001b[0m \u001b[0;32mnot\u001b[0m \u001b[0;36m200\u001b[0m \u001b[0;34m<=\u001b[0m \u001b[0mresponse\u001b[0m\u001b[0;34m.\u001b[0m\u001b[0mstatus_code\u001b[0m \u001b[0;34m<\u001b[0m \u001b[0;36m300\u001b[0m\u001b[0;34m:\u001b[0m\u001b[0;34m\u001b[0m\u001b[0;34m\u001b[0m\u001b[0m\n\u001b[0;32m--> 393\u001b[0;31m             \u001b[0;32mraise\u001b[0m \u001b[0mexceptions\u001b[0m\u001b[0;34m.\u001b[0m\u001b[0mfrom_http_response\u001b[0m\u001b[0;34m(\u001b[0m\u001b[0mresponse\u001b[0m\u001b[0;34m)\u001b[0m\u001b[0;34m\u001b[0m\u001b[0;34m\u001b[0m\u001b[0m\n\u001b[0m\u001b[1;32m    394\u001b[0m \u001b[0;34m\u001b[0m\u001b[0m\n\u001b[1;32m    395\u001b[0m         \u001b[0;32mif\u001b[0m \u001b[0mexpect_json\u001b[0m \u001b[0;32mand\u001b[0m \u001b[0mresponse\u001b[0m\u001b[0;34m.\u001b[0m\u001b[0mcontent\u001b[0m\u001b[0;34m:\u001b[0m\u001b[0;34m\u001b[0m\u001b[0;34m\u001b[0m\u001b[0m\n",
            "\u001b[0;31mConflict\u001b[0m: 409 POST https://bigquery.googleapis.com/bigquery/v2/projects/my-project-ml-331322/datasets: Already Exists: Dataset my-project-ml-331322:NY_taxi_tip"
          ]
        }
      ]
    },
    {
      "cell_type": "markdown",
      "metadata": {
        "id": "FgM8zdKm12sJ"
      },
      "source": [
        "## **Regression Model**"
      ]
    },
    {
      "cell_type": "markdown",
      "metadata": {
        "id": "Oz3xVuER8Zrf"
      },
      "source": [
        "### Data Overview\n"
      ]
    },
    {
      "cell_type": "code",
      "metadata": {
        "id": "hWQUGqnM8Zez",
        "colab": {
          "base_uri": "https://localhost:8080/",
          "height": 359
        },
        "outputId": "71730636-bc33-4d06-dfc1-276c06618149"
      },
      "source": [
        "# Extract training data from dataset\n",
        "\n",
        "%%bigquery --project $project_id\n",
        "\n",
        "SELECT tip_percent, trip_type, season, borough, trip_distance, (trip_distance/trip_length) as trip_speed\n",
        "FROM (\n",
        "WITH T AS (SELECT * FROM `bigquery-public-data.new_york_taxi_trips.tlc_green_trips_2018` LIMIT 100000),\n",
        "     Z AS (SELECT * FROM `bigquery-public-data.new_york_taxi_trips.taxi_zone_geom`)\n",
        "SELECT\n",
        "    ROUND(tip_amount/fare_amount * 100, 2) as tip_percent,\n",
        "    trip_type,\n",
        "    (CASE\n",
        "    WHEN pickup_datetime BETWEEN \"2018-03-20\" And \"2018-06-20\" THEN \"Spring\"\n",
        "    WHEN pickup_datetime BETWEEN \"2018-06-22\" And \"2018-09-21\" THEN \"Summer\"\n",
        "    WHEN pickup_datetime BETWEEN \"2018-09-22\" And \"2018-12-22\" THEN \"Fall\"\n",
        "    ELSE \"Winter\"\n",
        "    END) AS season,\n",
        "    borough,\n",
        "    trip_distance,\n",
        "    TIMESTAMP_DIFF(dropoff_datetime,pickup_datetime, minute) AS trip_length,\n",
        "FROM \n",
        "    (T JOIN Z ON T.pickup_location_id = Z.zone_id)\n",
        " WHERE\n",
        "    fare_amount is not NULL and fare_amount > 0 and tip_amount/fare_amount < 1)   \n",
        "WHERE trip_length IS NOT NULL AND trip_length != 0 \n",
        "LIMIT 10"
      ],
      "execution_count": null,
      "outputs": [
        {
          "output_type": "execute_result",
          "data": {
            "text/html": [
              "<div>\n",
              "<style scoped>\n",
              "    .dataframe tbody tr th:only-of-type {\n",
              "        vertical-align: middle;\n",
              "    }\n",
              "\n",
              "    .dataframe tbody tr th {\n",
              "        vertical-align: top;\n",
              "    }\n",
              "\n",
              "    .dataframe thead th {\n",
              "        text-align: right;\n",
              "    }\n",
              "</style>\n",
              "<table border=\"1\" class=\"dataframe\">\n",
              "  <thead>\n",
              "    <tr style=\"text-align: right;\">\n",
              "      <th></th>\n",
              "      <th>tip_percent</th>\n",
              "      <th>trip_type</th>\n",
              "      <th>season</th>\n",
              "      <th>borough</th>\n",
              "      <th>trip_distance</th>\n",
              "      <th>trip_speed</th>\n",
              "    </tr>\n",
              "  </thead>\n",
              "  <tbody>\n",
              "    <tr>\n",
              "      <th>0</th>\n",
              "      <td>20.98</td>\n",
              "      <td>1</td>\n",
              "      <td>Winter</td>\n",
              "      <td>Brooklyn</td>\n",
              "      <td>8.71</td>\n",
              "      <td>0.414761905</td>\n",
              "    </tr>\n",
              "    <tr>\n",
              "      <th>1</th>\n",
              "      <td>0</td>\n",
              "      <td>1</td>\n",
              "      <td>Winter</td>\n",
              "      <td>Queens</td>\n",
              "      <td>10.46</td>\n",
              "      <td>0.581111111</td>\n",
              "    </tr>\n",
              "    <tr>\n",
              "      <th>2</th>\n",
              "      <td>0</td>\n",
              "      <td>1</td>\n",
              "      <td>Winter</td>\n",
              "      <td>Manhattan</td>\n",
              "      <td>6.87</td>\n",
              "      <td>0.221612903</td>\n",
              "    </tr>\n",
              "    <tr>\n",
              "      <th>3</th>\n",
              "      <td>5.92</td>\n",
              "      <td>1</td>\n",
              "      <td>Winter</td>\n",
              "      <td>Manhattan</td>\n",
              "      <td>13.8</td>\n",
              "      <td>0.575</td>\n",
              "    </tr>\n",
              "    <tr>\n",
              "      <th>4</th>\n",
              "      <td>0</td>\n",
              "      <td>1</td>\n",
              "      <td>Winter</td>\n",
              "      <td>Brooklyn</td>\n",
              "      <td>17.59</td>\n",
              "      <td>0.43975</td>\n",
              "    </tr>\n",
              "    <tr>\n",
              "      <th>5</th>\n",
              "      <td>10.48</td>\n",
              "      <td>1</td>\n",
              "      <td>Winter</td>\n",
              "      <td>Manhattan</td>\n",
              "      <td>7.65</td>\n",
              "      <td>0.255</td>\n",
              "    </tr>\n",
              "    <tr>\n",
              "      <th>6</th>\n",
              "      <td>0</td>\n",
              "      <td>1</td>\n",
              "      <td>Winter</td>\n",
              "      <td>Brooklyn</td>\n",
              "      <td>12.44</td>\n",
              "      <td>0.460740741</td>\n",
              "    </tr>\n",
              "    <tr>\n",
              "      <th>7</th>\n",
              "      <td>20.57</td>\n",
              "      <td>1</td>\n",
              "      <td>Winter</td>\n",
              "      <td>Queens</td>\n",
              "      <td>8.46</td>\n",
              "      <td>0.313333333</td>\n",
              "    </tr>\n",
              "    <tr>\n",
              "      <th>8</th>\n",
              "      <td>0</td>\n",
              "      <td>1</td>\n",
              "      <td>Winter</td>\n",
              "      <td>Brooklyn</td>\n",
              "      <td>12.45</td>\n",
              "      <td>0.478846154</td>\n",
              "    </tr>\n",
              "    <tr>\n",
              "      <th>9</th>\n",
              "      <td>0</td>\n",
              "      <td>1</td>\n",
              "      <td>Winter</td>\n",
              "      <td>Brooklyn</td>\n",
              "      <td>7.15</td>\n",
              "      <td>0.238333333</td>\n",
              "    </tr>\n",
              "  </tbody>\n",
              "</table>\n",
              "</div>"
            ],
            "text/plain": [
              "  tip_percent trip_type  season    borough trip_distance   trip_speed\n",
              "0       20.98         1  Winter   Brooklyn          8.71  0.414761905\n",
              "1           0         1  Winter     Queens         10.46  0.581111111\n",
              "2           0         1  Winter  Manhattan          6.87  0.221612903\n",
              "3        5.92         1  Winter  Manhattan          13.8        0.575\n",
              "4           0         1  Winter   Brooklyn         17.59      0.43975\n",
              "5       10.48         1  Winter  Manhattan          7.65        0.255\n",
              "6           0         1  Winter   Brooklyn         12.44  0.460740741\n",
              "7       20.57         1  Winter     Queens          8.46  0.313333333\n",
              "8           0         1  Winter   Brooklyn         12.45  0.478846154\n",
              "9           0         1  Winter   Brooklyn          7.15  0.238333333"
            ]
          },
          "metadata": {},
          "execution_count": 38
        }
      ]
    },
    {
      "cell_type": "markdown",
      "metadata": {
        "id": "CIs2IjYr8hTI"
      },
      "source": [
        "---\n",
        "## Linear Regression\n",
        "---\n",
        "We started our training with the linear regression model, and the label was tip_percentage. (We want to use linear regression because we are predicting a continuous quantity, i.e percentage.)\n",
        "This led to some results, as we will discuss later.\n",
        "\n"
      ]
    },
    {
      "cell_type": "markdown",
      "metadata": {
        "id": "zYFZ8hLI8w68"
      },
      "source": [
        "### Training"
      ]
    },
    {
      "cell_type": "code",
      "metadata": {
        "id": "kKf1YqYF8B1K",
        "colab": {
          "base_uri": "https://localhost:8080/",
          "height": 32
        },
        "outputId": "b658d7e7-70f0-4bea-c697-24ab8f02a7f7"
      },
      "source": [
        "# Train the model\n",
        "\n",
        "%%bigquery --project $project_id\n",
        "CREATE OR REPLACE MODEL `NY_taxi_tip.numerical_model1`\n",
        "OPTIONS(model_type='linear_reg') AS\n",
        "SELECT label, trip_type, season, borough, trip_distance, (trip_distance/trip_length) as trip_speed\n",
        "FROM (\n",
        "WITH T AS (SELECT * FROM `bigquery-public-data.new_york_taxi_trips.tlc_green_trips_2018` \n",
        "          WHERE EXTRACT(HOUR FROM pickup_datetime) = 13 \n",
        "          LIMIT 10000),\n",
        "     Z AS (SELECT * FROM `bigquery-public-data.new_york_taxi_trips.taxi_zone_geom`)\n",
        "SELECT\n",
        "    ROUND(tip_amount/fare_amount * 100, 2) as label,\n",
        "    trip_type,\n",
        "    (CASE\n",
        "    WHEN pickup_datetime BETWEEN \"2018-03-20\" And \"2018-06-20\" THEN \"Spring\"\n",
        "    WHEN pickup_datetime BETWEEN \"2018-06-22\" And \"2018-09-21\" THEN \"Summer\"\n",
        "    WHEN pickup_datetime BETWEEN \"2018-09-22\" And \"2018-12-22\" THEN \"Fall\"\n",
        "    ELSE \"Winter\"\n",
        "    END) AS season,\n",
        "    borough,\n",
        "    trip_distance,\n",
        "    TIMESTAMP_DIFF(dropoff_datetime,pickup_datetime, minute) AS trip_length,\n",
        "FROM \n",
        "    (T JOIN Z ON T.pickup_location_id = Z.zone_id)\n",
        " WHERE\n",
        "    fare_amount is not NULL and fare_amount > 0 and tip_amount/fare_amount < 1)   \n",
        "WHERE trip_length IS NOT NULL AND trip_length != 0 "
      ],
      "execution_count": null,
      "outputs": [
        {
          "output_type": "execute_result",
          "data": {
            "text/html": [
              "<div>\n",
              "<style scoped>\n",
              "    .dataframe tbody tr th:only-of-type {\n",
              "        vertical-align: middle;\n",
              "    }\n",
              "\n",
              "    .dataframe tbody tr th {\n",
              "        vertical-align: top;\n",
              "    }\n",
              "\n",
              "    .dataframe thead th {\n",
              "        text-align: right;\n",
              "    }\n",
              "</style>\n",
              "<table border=\"1\" class=\"dataframe\">\n",
              "  <thead>\n",
              "    <tr style=\"text-align: right;\">\n",
              "      <th></th>\n",
              "    </tr>\n",
              "  </thead>\n",
              "  <tbody>\n",
              "  </tbody>\n",
              "</table>\n",
              "</div>"
            ],
            "text/plain": [
              "Empty DataFrame\n",
              "Columns: []\n",
              "Index: []"
            ]
          },
          "metadata": {},
          "execution_count": 40
        }
      ]
    },
    {
      "cell_type": "code",
      "metadata": {
        "id": "DMV_MNma9B9i",
        "colab": {
          "base_uri": "https://localhost:8080/",
          "height": 80
        },
        "outputId": "0b43a90b-0094-4df9-974e-c2cca125d0e1"
      },
      "source": [
        "# Training stats\n",
        "%%bigquery --project $project_id\n",
        "\n",
        "SELECT *\n",
        "FROM\n",
        "  ML.TRAINING_INFO(MODEL `NY_taxi_tip.numerical_model1`)"
      ],
      "execution_count": null,
      "outputs": [
        {
          "output_type": "execute_result",
          "data": {
            "text/html": [
              "<div>\n",
              "<style scoped>\n",
              "    .dataframe tbody tr th:only-of-type {\n",
              "        vertical-align: middle;\n",
              "    }\n",
              "\n",
              "    .dataframe tbody tr th {\n",
              "        vertical-align: top;\n",
              "    }\n",
              "\n",
              "    .dataframe thead th {\n",
              "        text-align: right;\n",
              "    }\n",
              "</style>\n",
              "<table border=\"1\" class=\"dataframe\">\n",
              "  <thead>\n",
              "    <tr style=\"text-align: right;\">\n",
              "      <th></th>\n",
              "      <th>training_run</th>\n",
              "      <th>iteration</th>\n",
              "      <th>loss</th>\n",
              "      <th>eval_loss</th>\n",
              "      <th>learning_rate</th>\n",
              "      <th>duration_ms</th>\n",
              "    </tr>\n",
              "  </thead>\n",
              "  <tbody>\n",
              "    <tr>\n",
              "      <th>0</th>\n",
              "      <td>0</td>\n",
              "      <td>0</td>\n",
              "      <td>69.151531</td>\n",
              "      <td>78.755725</td>\n",
              "      <td>None</td>\n",
              "      <td>2734</td>\n",
              "    </tr>\n",
              "  </tbody>\n",
              "</table>\n",
              "</div>"
            ],
            "text/plain": [
              "   training_run  iteration       loss  eval_loss learning_rate  duration_ms\n",
              "0             0          0  69.151531  78.755725          None         2734"
            ]
          },
          "metadata": {},
          "execution_count": 41
        }
      ]
    },
    {
      "cell_type": "markdown",
      "metadata": {
        "id": "Oen0X9J8qOWP"
      },
      "source": [
        "### Validation"
      ]
    },
    {
      "cell_type": "code",
      "metadata": {
        "id": "ctWTFkXY9P5d",
        "colab": {
          "base_uri": "https://localhost:8080/",
          "height": 80
        },
        "outputId": "75f5066c-cc2e-4645-d751-3b98a68d758d"
      },
      "source": [
        "# Evaluation ! :)\n",
        "%%bigquery --project $project_id\n",
        "\n",
        "SELECT *\n",
        "FROM\n",
        "  ML.EVALUATE(MODEL `NY_taxi_tip.numerical_model1`, (\n",
        "SELECT label, trip_type, season, borough, trip_distance, (trip_distance/trip_length) as trip_speed\n",
        "FROM (\n",
        "WITH T AS (SELECT * FROM `bigquery-public-data.new_york_taxi_trips.tlc_green_trips_2018` \n",
        "          WHERE EXTRACT(HOUR FROM pickup_datetime) = 14 \n",
        "          LIMIT 10000),\n",
        "     Z AS (SELECT * FROM `bigquery-public-data.new_york_taxi_trips.taxi_zone_geom`)\n",
        "SELECT\n",
        "    ROUND(tip_amount/fare_amount * 100, 2) as label,\n",
        "    trip_type,\n",
        "    (CASE\n",
        "    WHEN pickup_datetime BETWEEN \"2018-03-20\" And \"2018-06-20\" THEN \"Spring\"\n",
        "    WHEN pickup_datetime BETWEEN \"2018-06-22\" And \"2018-09-21\" THEN \"Summer\"\n",
        "    WHEN pickup_datetime BETWEEN \"2018-09-22\" And \"2018-12-22\" THEN \"Fall\"\n",
        "    ELSE \"Winter\"\n",
        "    END) AS season,\n",
        "    borough,\n",
        "    trip_distance,\n",
        "    TIMESTAMP_DIFF(dropoff_datetime,pickup_datetime, minute) AS trip_length,\n",
        "FROM \n",
        "    (T JOIN Z ON T.pickup_location_id = Z.zone_id)\n",
        " WHERE\n",
        "    fare_amount is not NULL and fare_amount > 0 and tip_amount/fare_amount < 1)   \n",
        "WHERE trip_length IS NOT NULL AND trip_length != 0 ))\n"
      ],
      "execution_count": null,
      "outputs": [
        {
          "output_type": "execute_result",
          "data": {
            "text/html": [
              "<div>\n",
              "<style scoped>\n",
              "    .dataframe tbody tr th:only-of-type {\n",
              "        vertical-align: middle;\n",
              "    }\n",
              "\n",
              "    .dataframe tbody tr th {\n",
              "        vertical-align: top;\n",
              "    }\n",
              "\n",
              "    .dataframe thead th {\n",
              "        text-align: right;\n",
              "    }\n",
              "</style>\n",
              "<table border=\"1\" class=\"dataframe\">\n",
              "  <thead>\n",
              "    <tr style=\"text-align: right;\">\n",
              "      <th></th>\n",
              "      <th>mean_absolute_error</th>\n",
              "      <th>mean_squared_error</th>\n",
              "      <th>mean_squared_log_error</th>\n",
              "      <th>median_absolute_error</th>\n",
              "      <th>r2_score</th>\n",
              "      <th>explained_variance</th>\n",
              "    </tr>\n",
              "  </thead>\n",
              "  <tbody>\n",
              "    <tr>\n",
              "      <th>0</th>\n",
              "      <td>6.663783</td>\n",
              "      <td>76.62542</td>\n",
              "      <td>2.501031</td>\n",
              "      <td>5.58065</td>\n",
              "      <td>0.053832</td>\n",
              "      <td>0.054034</td>\n",
              "    </tr>\n",
              "  </tbody>\n",
              "</table>\n",
              "</div>"
            ],
            "text/plain": [
              "   mean_absolute_error  mean_squared_error  ...  r2_score  explained_variance\n",
              "0             6.663783            76.62542  ...  0.053832            0.054034\n",
              "\n",
              "[1 rows x 6 columns]"
            ]
          },
          "metadata": {},
          "execution_count": 42
        }
      ]
    },
    {
      "cell_type": "markdown",
      "metadata": {
        "id": "_SDfES8eNbCN"
      },
      "source": [
        "\n",
        "Through evaluating our linear regression ML model, we see that the mean_absolute_error is 6.663783. This error suggests that in average, our prediction is around 6.67% away from the true tip percentage.\n",
        "\n",
        "We are unsure about whether this results is relatively reasonable, so we chose another model DNN to and compare the results obtained from both models to get a more comprehensive idea. "
      ]
    },
    {
      "cell_type": "markdown",
      "metadata": {
        "id": "NyAU3nEQqVuD"
      },
      "source": [
        "### Test"
      ]
    },
    {
      "cell_type": "markdown",
      "metadata": {
        "id": "VyzDsDrjy-sY"
      },
      "source": [
        "The metrics of mean absolute error increases from 6.67 to 6.97. This overall drop in the performance can be justified by the way we split the dataset. The time slot of the training set starts at 13:00, which is closer to the 14:00 of the validation set than the 15:00 of the testing dataset, which could give rise to a difference in the calculation of tips. "
      ]
    },
    {
      "cell_type": "code",
      "metadata": {
        "id": "ukVbszIH9RUv",
        "colab": {
          "base_uri": "https://localhost:8080/",
          "height": 80
        },
        "outputId": "7a8f37b4-5568-4b67-fc3c-4404558c4f5f"
      },
      "source": [
        "# Test\n",
        "%%bigquery --project $project_id\n",
        "\n",
        "SELECT *\n",
        "FROM\n",
        "  ML.EVALUATE(MODEL `NY_taxi_tip.numerical_model1`, (\n",
        "SELECT label, trip_type, season, borough, trip_distance, (trip_distance/trip_length) as trip_speed\n",
        "FROM (\n",
        "WITH T AS (SELECT * FROM `bigquery-public-data.new_york_taxi_trips.tlc_green_trips_2018` \n",
        "          WHERE EXTRACT(HOUR FROM pickup_datetime) = 15 \n",
        "          LIMIT 10000),\n",
        "     Z AS (SELECT * FROM `bigquery-public-data.new_york_taxi_trips.taxi_zone_geom`)\n",
        "SELECT\n",
        "    ROUND(tip_amount/fare_amount * 100, 2) as label,\n",
        "    trip_type,\n",
        "    (CASE\n",
        "    WHEN pickup_datetime BETWEEN \"2018-03-20\" And \"2018-06-20\" THEN \"Spring\"\n",
        "    WHEN pickup_datetime BETWEEN \"2018-06-22\" And \"2018-09-21\" THEN \"Summer\"\n",
        "    WHEN pickup_datetime BETWEEN \"2018-09-22\" And \"2018-12-22\" THEN \"Fall\"\n",
        "    ELSE \"Winter\"\n",
        "    END) AS season,\n",
        "    borough,\n",
        "    trip_distance,\n",
        "    TIMESTAMP_DIFF(dropoff_datetime,pickup_datetime, minute) AS trip_length,\n",
        "FROM \n",
        "    (T JOIN Z ON T.pickup_location_id = Z.zone_id)\n",
        " WHERE\n",
        "    fare_amount is not NULL and fare_amount > 0 and tip_amount/fare_amount < 1)   \n",
        "WHERE trip_length IS NOT NULL AND trip_length != 0 ))\n"
      ],
      "execution_count": null,
      "outputs": [
        {
          "output_type": "execute_result",
          "data": {
            "text/html": [
              "<div>\n",
              "<style scoped>\n",
              "    .dataframe tbody tr th:only-of-type {\n",
              "        vertical-align: middle;\n",
              "    }\n",
              "\n",
              "    .dataframe tbody tr th {\n",
              "        vertical-align: top;\n",
              "    }\n",
              "\n",
              "    .dataframe thead th {\n",
              "        text-align: right;\n",
              "    }\n",
              "</style>\n",
              "<table border=\"1\" class=\"dataframe\">\n",
              "  <thead>\n",
              "    <tr style=\"text-align: right;\">\n",
              "      <th></th>\n",
              "      <th>mean_absolute_error</th>\n",
              "      <th>mean_squared_error</th>\n",
              "      <th>mean_squared_log_error</th>\n",
              "      <th>median_absolute_error</th>\n",
              "      <th>r2_score</th>\n",
              "      <th>explained_variance</th>\n",
              "    </tr>\n",
              "  </thead>\n",
              "  <tbody>\n",
              "    <tr>\n",
              "      <th>0</th>\n",
              "      <td>6.968911</td>\n",
              "      <td>78.791258</td>\n",
              "      <td>2.493454</td>\n",
              "      <td>5.772814</td>\n",
              "      <td>0.058879</td>\n",
              "      <td>0.059246</td>\n",
              "    </tr>\n",
              "  </tbody>\n",
              "</table>\n",
              "</div>"
            ],
            "text/plain": [
              "   mean_absolute_error  mean_squared_error  ...  r2_score  explained_variance\n",
              "0             6.968911           78.791258  ...  0.058879            0.059246\n",
              "\n",
              "[1 rows x 6 columns]"
            ]
          },
          "metadata": {},
          "execution_count": 43
        }
      ]
    },
    {
      "cell_type": "markdown",
      "metadata": {
        "id": "jy5HrcoErDU1"
      },
      "source": [
        "### Prediction"
      ]
    },
    {
      "cell_type": "code",
      "metadata": {
        "id": "-emPEX_b9WP8",
        "colab": {
          "base_uri": "https://localhost:8080/",
          "height": 419
        },
        "outputId": "793c3536-dc34-4e72-dea9-867ee20af1ee"
      },
      "source": [
        "# Prediction\n",
        "%%bigquery --project $project_id\n",
        "SELECT\n",
        "  predicted_label, \n",
        "  label,\n",
        "  trip_type, \n",
        "  season, \n",
        "  borough, \n",
        "  trip_distance, \n",
        "  trip_speed\n",
        "FROM\n",
        "  ML.PREDICT(MODEL `NY_taxi_tip.numerical_model1`,\n",
        "(SELECT label, trip_type, season, borough, trip_distance, (trip_distance/trip_length) as trip_speed\n",
        "FROM (\n",
        "WITH T AS (SELECT * FROM `bigquery-public-data.new_york_taxi_trips.tlc_green_trips_2018` \n",
        "           WHERE EXTRACT(HOUR FROM pickup_datetime) > 20\n",
        "          LIMIT 10000),\n",
        "     Z AS (SELECT * FROM `bigquery-public-data.new_york_taxi_trips.taxi_zone_geom`)\n",
        "SELECT\n",
        "    ROUND(tip_amount/fare_amount * 100, 2) as label,\n",
        "    trip_type,\n",
        "    (CASE\n",
        "    WHEN pickup_datetime BETWEEN \"2018-03-20\" And \"2018-06-20\" THEN \"Spring\"\n",
        "    WHEN pickup_datetime BETWEEN \"2018-06-22\" And \"2018-09-21\" THEN \"Summer\"\n",
        "    WHEN pickup_datetime BETWEEN \"2018-09-22\" And \"2018-12-22\" THEN \"Fall\"\n",
        "    ELSE \"Winter\"\n",
        "    END) AS season,\n",
        "    borough,\n",
        "    trip_distance,\n",
        "    TIMESTAMP_DIFF(dropoff_datetime,pickup_datetime, minute) AS trip_length,\n",
        "FROM \n",
        "    (T JOIN Z ON T.pickup_location_id = Z.zone_id)\n",
        " WHERE\n",
        "    fare_amount is not NULL and fare_amount > 0 and tip_amount/fare_amount < 1)   \n",
        "WHERE trip_length IS NOT NULL AND trip_length != 0 ))\n"
      ],
      "execution_count": null,
      "outputs": [
        {
          "output_type": "execute_result",
          "data": {
            "text/html": [
              "<div>\n",
              "<style scoped>\n",
              "    .dataframe tbody tr th:only-of-type {\n",
              "        vertical-align: middle;\n",
              "    }\n",
              "\n",
              "    .dataframe tbody tr th {\n",
              "        vertical-align: top;\n",
              "    }\n",
              "\n",
              "    .dataframe thead th {\n",
              "        text-align: right;\n",
              "    }\n",
              "</style>\n",
              "<table border=\"1\" class=\"dataframe\">\n",
              "  <thead>\n",
              "    <tr style=\"text-align: right;\">\n",
              "      <th></th>\n",
              "      <th>predicted_label</th>\n",
              "      <th>label</th>\n",
              "      <th>trip_type</th>\n",
              "      <th>season</th>\n",
              "      <th>borough</th>\n",
              "      <th>trip_distance</th>\n",
              "      <th>trip_speed</th>\n",
              "    </tr>\n",
              "  </thead>\n",
              "  <tbody>\n",
              "    <tr>\n",
              "      <th>0</th>\n",
              "      <td>6.005349</td>\n",
              "      <td>0</td>\n",
              "      <td>1</td>\n",
              "      <td>Summer</td>\n",
              "      <td>Staten Island</td>\n",
              "      <td>22.93</td>\n",
              "      <td>0.603421053</td>\n",
              "    </tr>\n",
              "    <tr>\n",
              "      <th>1</th>\n",
              "      <td>0.985573</td>\n",
              "      <td>21.7</td>\n",
              "      <td>2</td>\n",
              "      <td>Spring</td>\n",
              "      <td>Staten Island</td>\n",
              "      <td>23.49</td>\n",
              "      <td>0.559285714</td>\n",
              "    </tr>\n",
              "    <tr>\n",
              "      <th>2</th>\n",
              "      <td>6.798414</td>\n",
              "      <td>24.92</td>\n",
              "      <td>1</td>\n",
              "      <td>Summer</td>\n",
              "      <td>Staten Island</td>\n",
              "      <td>18.91</td>\n",
              "      <td>0.61</td>\n",
              "    </tr>\n",
              "    <tr>\n",
              "      <th>3</th>\n",
              "      <td>5.704950</td>\n",
              "      <td>0</td>\n",
              "      <td>1</td>\n",
              "      <td>Summer</td>\n",
              "      <td>Staten Island</td>\n",
              "      <td>19.94</td>\n",
              "      <td>0.486341463</td>\n",
              "    </tr>\n",
              "    <tr>\n",
              "      <th>4</th>\n",
              "      <td>4.539665</td>\n",
              "      <td>0</td>\n",
              "      <td>1</td>\n",
              "      <td>Spring</td>\n",
              "      <td>Staten Island</td>\n",
              "      <td>26.01</td>\n",
              "      <td>0.464464286</td>\n",
              "    </tr>\n",
              "    <tr>\n",
              "      <th>...</th>\n",
              "      <td>...</td>\n",
              "      <td>...</td>\n",
              "      <td>...</td>\n",
              "      <td>...</td>\n",
              "      <td>...</td>\n",
              "      <td>...</td>\n",
              "      <td>...</td>\n",
              "    </tr>\n",
              "    <tr>\n",
              "      <th>9155</th>\n",
              "      <td>7.556178</td>\n",
              "      <td>33.45</td>\n",
              "      <td>1</td>\n",
              "      <td>Summer</td>\n",
              "      <td>Manhattan</td>\n",
              "      <td>8.3</td>\n",
              "      <td>0.267741935</td>\n",
              "    </tr>\n",
              "    <tr>\n",
              "      <th>9156</th>\n",
              "      <td>8.071260</td>\n",
              "      <td>20.87</td>\n",
              "      <td>1</td>\n",
              "      <td>Summer</td>\n",
              "      <td>Manhattan</td>\n",
              "      <td>9.76</td>\n",
              "      <td>0.375384615</td>\n",
              "    </tr>\n",
              "    <tr>\n",
              "      <th>9157</th>\n",
              "      <td>6.702710</td>\n",
              "      <td>0</td>\n",
              "      <td>1</td>\n",
              "      <td>Summer</td>\n",
              "      <td>Manhattan</td>\n",
              "      <td>18.91</td>\n",
              "      <td>0.420222222</td>\n",
              "    </tr>\n",
              "    <tr>\n",
              "      <th>9158</th>\n",
              "      <td>7.946372</td>\n",
              "      <td>25.94</td>\n",
              "      <td>1</td>\n",
              "      <td>Summer</td>\n",
              "      <td>Manhattan</td>\n",
              "      <td>10.7</td>\n",
              "      <td>0.382142857</td>\n",
              "    </tr>\n",
              "    <tr>\n",
              "      <th>9159</th>\n",
              "      <td>7.212670</td>\n",
              "      <td>15.71</td>\n",
              "      <td>1</td>\n",
              "      <td>Summer</td>\n",
              "      <td>Manhattan</td>\n",
              "      <td>6.07</td>\n",
              "      <td>0.164054054</td>\n",
              "    </tr>\n",
              "  </tbody>\n",
              "</table>\n",
              "<p>9160 rows × 7 columns</p>\n",
              "</div>"
            ],
            "text/plain": [
              "      predicted_label  label  ... trip_distance   trip_speed\n",
              "0            6.005349      0  ...         22.93  0.603421053\n",
              "1            0.985573   21.7  ...         23.49  0.559285714\n",
              "2            6.798414  24.92  ...         18.91         0.61\n",
              "3            5.704950      0  ...         19.94  0.486341463\n",
              "4            4.539665      0  ...         26.01  0.464464286\n",
              "...               ...    ...  ...           ...          ...\n",
              "9155         7.556178  33.45  ...           8.3  0.267741935\n",
              "9156         8.071260  20.87  ...          9.76  0.375384615\n",
              "9157         6.702710      0  ...         18.91  0.420222222\n",
              "9158         7.946372  25.94  ...          10.7  0.382142857\n",
              "9159         7.212670  15.71  ...          6.07  0.164054054\n",
              "\n",
              "[9160 rows x 7 columns]"
            ]
          },
          "metadata": {},
          "execution_count": 61
        }
      ]
    },
    {
      "cell_type": "markdown",
      "metadata": {
        "id": "fJNfJ0-LcBGo"
      },
      "source": [
        "We included the features and the original/predicted labels in the prediction. The predicted tip percentage is not very close to the actual labels from the limited examples shown in the table. However, the general trend is reasonable, which means that for higher original tip percentage, the predictions tend to be higher as well."
      ]
    },
    {
      "cell_type": "markdown",
      "metadata": {
        "id": "ZKrzzad09Eyl"
      },
      "source": [
        "---\n",
        "## Deep Neural Network\n",
        "---\n",
        "\n",
        "Because we only use linear regression model to predict, we don't have a comparative model to evaluate whether it's good, so we tried another model, Deep Neural Network (DNN) in an attempt to use a more complex machine learning approach."
      ]
    },
    {
      "cell_type": "markdown",
      "metadata": {
        "id": "aJZCCvvcrHoh"
      },
      "source": [
        "### Training"
      ]
    },
    {
      "cell_type": "code",
      "metadata": {
        "id": "NfocmKKz9rHR",
        "colab": {
          "base_uri": "https://localhost:8080/",
          "height": 32
        },
        "outputId": "bef1a4aa-7f8c-4380-8ad0-6f5869a26990"
      },
      "source": [
        "# Train the model\n",
        "%%bigquery --project $project_id\n",
        "\n",
        "CREATE OR REPLACE MODEL `NY_taxi_tip.numerical_model2`\n",
        "OPTIONS(model_type='DNN_REGRESSOR') AS\n",
        "SELECT label, trip_type, season, borough, trip_distance, (trip_distance/trip_length) as trip_speed\n",
        "FROM (\n",
        "WITH T AS (SELECT * FROM `bigquery-public-data.new_york_taxi_trips.tlc_green_trips_2018` \n",
        "          WHERE EXTRACT(HOUR FROM pickup_datetime) = 13 \n",
        "          LIMIT 10000),\n",
        "     Z AS (SELECT * FROM `bigquery-public-data.new_york_taxi_trips.taxi_zone_geom`)\n",
        "SELECT\n",
        "    ROUND(tip_amount/fare_amount * 100, 2) as label,\n",
        "    trip_type,\n",
        "    (CASE\n",
        "    WHEN pickup_datetime BETWEEN \"2018-03-20\" And \"2018-06-20\" THEN \"Spring\"\n",
        "    WHEN pickup_datetime BETWEEN \"2018-06-22\" And \"2018-09-21\" THEN \"Summer\"\n",
        "    WHEN pickup_datetime BETWEEN \"2018-09-22\" And \"2018-12-22\" THEN \"Fall\"\n",
        "    ELSE \"Winter\"\n",
        "    END) AS season,\n",
        "    borough,\n",
        "    trip_distance,\n",
        "    TIMESTAMP_DIFF(dropoff_datetime,pickup_datetime, minute) AS trip_length,\n",
        "FROM \n",
        "    (T JOIN Z ON T.pickup_location_id = Z.zone_id)\n",
        " WHERE\n",
        "    fare_amount is not NULL and fare_amount > 0 and tip_amount/fare_amount < 1)   \n",
        "WHERE trip_length IS NOT NULL AND trip_length != 0 "
      ],
      "execution_count": null,
      "outputs": [
        {
          "output_type": "execute_result",
          "data": {
            "text/html": [
              "<div>\n",
              "<style scoped>\n",
              "    .dataframe tbody tr th:only-of-type {\n",
              "        vertical-align: middle;\n",
              "    }\n",
              "\n",
              "    .dataframe tbody tr th {\n",
              "        vertical-align: top;\n",
              "    }\n",
              "\n",
              "    .dataframe thead th {\n",
              "        text-align: right;\n",
              "    }\n",
              "</style>\n",
              "<table border=\"1\" class=\"dataframe\">\n",
              "  <thead>\n",
              "    <tr style=\"text-align: right;\">\n",
              "      <th></th>\n",
              "    </tr>\n",
              "  </thead>\n",
              "  <tbody>\n",
              "  </tbody>\n",
              "</table>\n",
              "</div>"
            ],
            "text/plain": [
              "Empty DataFrame\n",
              "Columns: []\n",
              "Index: []"
            ]
          },
          "metadata": {},
          "execution_count": 45
        }
      ]
    },
    {
      "cell_type": "code",
      "metadata": {
        "id": "g8n2KDdG9sh0",
        "colab": {
          "base_uri": "https://localhost:8080/",
          "height": 111
        },
        "outputId": "72d6d3a8-173b-40a8-dccd-5094eed9d55c"
      },
      "source": [
        "# Training stats\n",
        "%%bigquery --project $project_id\n",
        "\n",
        "SELECT *\n",
        "FROM\n",
        "  ML.TRAINING_INFO(MODEL `NY_taxi_tip.numerical_model2`)"
      ],
      "execution_count": null,
      "outputs": [
        {
          "output_type": "execute_result",
          "data": {
            "text/html": [
              "<div>\n",
              "<style scoped>\n",
              "    .dataframe tbody tr th:only-of-type {\n",
              "        vertical-align: middle;\n",
              "    }\n",
              "\n",
              "    .dataframe tbody tr th {\n",
              "        vertical-align: top;\n",
              "    }\n",
              "\n",
              "    .dataframe thead th {\n",
              "        text-align: right;\n",
              "    }\n",
              "</style>\n",
              "<table border=\"1\" class=\"dataframe\">\n",
              "  <thead>\n",
              "    <tr style=\"text-align: right;\">\n",
              "      <th></th>\n",
              "      <th>training_run</th>\n",
              "      <th>iteration</th>\n",
              "      <th>loss</th>\n",
              "      <th>eval_loss</th>\n",
              "      <th>learning_rate</th>\n",
              "      <th>duration_ms</th>\n",
              "    </tr>\n",
              "  </thead>\n",
              "  <tbody>\n",
              "    <tr>\n",
              "      <th>0</th>\n",
              "      <td>0</td>\n",
              "      <td>1</td>\n",
              "      <td>27.521572</td>\n",
              "      <td>79.070985</td>\n",
              "      <td>0.000615</td>\n",
              "      <td>29314</td>\n",
              "    </tr>\n",
              "    <tr>\n",
              "      <th>1</th>\n",
              "      <td>0</td>\n",
              "      <td>0</td>\n",
              "      <td>22.359638</td>\n",
              "      <td>81.950651</td>\n",
              "      <td>0.000460</td>\n",
              "      <td>18344</td>\n",
              "    </tr>\n",
              "  </tbody>\n",
              "</table>\n",
              "</div>"
            ],
            "text/plain": [
              "   training_run  iteration       loss  eval_loss  learning_rate  duration_ms\n",
              "0             0          1  27.521572  79.070985       0.000615        29314\n",
              "1             0          0  22.359638  81.950651       0.000460        18344"
            ]
          },
          "metadata": {},
          "execution_count": 47
        }
      ]
    },
    {
      "cell_type": "markdown",
      "metadata": {
        "id": "wp0dO8tZrKTC"
      },
      "source": [
        "### Validation"
      ]
    },
    {
      "cell_type": "code",
      "metadata": {
        "id": "9K3zKCby9vNY",
        "colab": {
          "base_uri": "https://localhost:8080/",
          "height": 80
        },
        "outputId": "3a876d24-f77f-40bf-c8fa-dd3a7802591b"
      },
      "source": [
        "# Evaluation ! :)\n",
        "%%bigquery --project $project_id\n",
        "\n",
        "SELECT *\n",
        "FROM\n",
        "  ML.EVALUATE(MODEL `NY_taxi_tip.numerical_model2`, (\n",
        "SELECT label, trip_type, season, borough, trip_distance, (trip_distance/trip_length) as trip_speed\n",
        "FROM (\n",
        "WITH T AS (SELECT * FROM `bigquery-public-data.new_york_taxi_trips.tlc_green_trips_2018` \n",
        "          WHERE EXTRACT(HOUR FROM pickup_datetime) = 14 \n",
        "          LIMIT 10000),\n",
        "     Z AS (SELECT * FROM `bigquery-public-data.new_york_taxi_trips.taxi_zone_geom`)\n",
        "SELECT\n",
        "    ROUND(tip_amount/fare_amount * 100, 2) as label,\n",
        "    trip_type,\n",
        "    (CASE\n",
        "    WHEN pickup_datetime BETWEEN \"2018-03-20\" And \"2018-06-20\" THEN \"Spring\"\n",
        "    WHEN pickup_datetime BETWEEN \"2018-06-22\" And \"2018-09-21\" THEN \"Summer\"\n",
        "    WHEN pickup_datetime BETWEEN \"2018-09-22\" And \"2018-12-22\" THEN \"Fall\"\n",
        "    ELSE \"Winter\"\n",
        "    END) AS season,\n",
        "    borough,\n",
        "    trip_distance,\n",
        "    TIMESTAMP_DIFF(dropoff_datetime,pickup_datetime, minute) AS trip_length,\n",
        "FROM \n",
        "    (T JOIN Z ON T.pickup_location_id = Z.zone_id)\n",
        " WHERE\n",
        "    fare_amount is not NULL and fare_amount > 0 and tip_amount/fare_amount < 1)   \n",
        "WHERE trip_length IS NOT NULL AND trip_length != 0 ))\n"
      ],
      "execution_count": null,
      "outputs": [
        {
          "output_type": "execute_result",
          "data": {
            "text/html": [
              "<div>\n",
              "<style scoped>\n",
              "    .dataframe tbody tr th:only-of-type {\n",
              "        vertical-align: middle;\n",
              "    }\n",
              "\n",
              "    .dataframe tbody tr th {\n",
              "        vertical-align: top;\n",
              "    }\n",
              "\n",
              "    .dataframe thead th {\n",
              "        text-align: right;\n",
              "    }\n",
              "</style>\n",
              "<table border=\"1\" class=\"dataframe\">\n",
              "  <thead>\n",
              "    <tr style=\"text-align: right;\">\n",
              "      <th></th>\n",
              "      <th>mean_absolute_error</th>\n",
              "      <th>mean_squared_error</th>\n",
              "      <th>mean_squared_log_error</th>\n",
              "      <th>median_absolute_error</th>\n",
              "      <th>r2_score</th>\n",
              "      <th>explained_variance</th>\n",
              "    </tr>\n",
              "  </thead>\n",
              "  <tbody>\n",
              "    <tr>\n",
              "      <th>0</th>\n",
              "      <td>6.851136</td>\n",
              "      <td>77.915481</td>\n",
              "      <td>2.421413</td>\n",
              "      <td>5.304399</td>\n",
              "      <td>0.066332</td>\n",
              "      <td>0.066683</td>\n",
              "    </tr>\n",
              "  </tbody>\n",
              "</table>\n",
              "</div>"
            ],
            "text/plain": [
              "   mean_absolute_error  mean_squared_error  ...  r2_score  explained_variance\n",
              "0             6.851136           77.915481  ...  0.066332            0.066683\n",
              "\n",
              "[1 rows x 6 columns]"
            ]
          },
          "metadata": {},
          "execution_count": 48
        }
      ]
    },
    {
      "cell_type": "markdown",
      "metadata": {
        "id": "SI3sRdaFditt"
      },
      "source": [
        "The mean_absolute_error is approximately the same as this for the linear regression ML model and even increased a little from 6.67 to 6.85. "
      ]
    },
    {
      "cell_type": "markdown",
      "metadata": {
        "id": "t4NpAe0LrNIU"
      },
      "source": [
        "### Test\n",
        "The mean_absolute_error is higher for the test dataset compared to the validation set as expected, for the same possible reason discussed in the linear regression model."
      ]
    },
    {
      "cell_type": "code",
      "metadata": {
        "id": "Sb-gwryE94EN",
        "colab": {
          "base_uri": "https://localhost:8080/",
          "height": 80
        },
        "outputId": "dbe0e89e-9ab6-4411-d25f-d0ea9ca34c13"
      },
      "source": [
        "# Test\n",
        "%%bigquery --project $project_id\n",
        "\n",
        "SELECT *\n",
        "FROM\n",
        "  ML.EVALUATE(MODEL `NY_taxi_tip.numerical_model2`, (\n",
        "SELECT label, trip_type, season, borough, trip_distance, (trip_distance/trip_length) as trip_speed\n",
        "FROM (\n",
        "WITH T AS (SELECT * FROM `bigquery-public-data.new_york_taxi_trips.tlc_green_trips_2018` \n",
        "          WHERE EXTRACT(HOUR FROM pickup_datetime) = 15 \n",
        "          LIMIT 10000),\n",
        "     Z AS (SELECT * FROM `bigquery-public-data.new_york_taxi_trips.taxi_zone_geom`)\n",
        "SELECT\n",
        "    ROUND(tip_amount/fare_amount * 100, 2) as label,\n",
        "    trip_type,\n",
        "    (CASE\n",
        "    WHEN pickup_datetime BETWEEN \"2018-03-20\" And \"2018-06-20\" THEN \"Spring\"\n",
        "    WHEN pickup_datetime BETWEEN \"2018-06-22\" And \"2018-09-21\" THEN \"Summer\"\n",
        "    WHEN pickup_datetime BETWEEN \"2018-09-22\" And \"2018-12-22\" THEN \"Fall\"\n",
        "    ELSE \"Winter\"\n",
        "    END) AS season,\n",
        "    borough,\n",
        "    trip_distance,\n",
        "    TIMESTAMP_DIFF(dropoff_datetime,pickup_datetime, minute) AS trip_length,\n",
        "FROM \n",
        "    (T JOIN Z ON T.pickup_location_id = Z.zone_id)\n",
        " WHERE\n",
        "    fare_amount is not NULL and fare_amount > 0 and tip_amount/fare_amount < 1)   \n",
        "WHERE trip_length IS NOT NULL AND trip_length != 0 ))\n"
      ],
      "execution_count": null,
      "outputs": [
        {
          "output_type": "execute_result",
          "data": {
            "text/html": [
              "<div>\n",
              "<style scoped>\n",
              "    .dataframe tbody tr th:only-of-type {\n",
              "        vertical-align: middle;\n",
              "    }\n",
              "\n",
              "    .dataframe tbody tr th {\n",
              "        vertical-align: top;\n",
              "    }\n",
              "\n",
              "    .dataframe thead th {\n",
              "        text-align: right;\n",
              "    }\n",
              "</style>\n",
              "<table border=\"1\" class=\"dataframe\">\n",
              "  <thead>\n",
              "    <tr style=\"text-align: right;\">\n",
              "      <th></th>\n",
              "      <th>mean_absolute_error</th>\n",
              "      <th>mean_squared_error</th>\n",
              "      <th>mean_squared_log_error</th>\n",
              "      <th>median_absolute_error</th>\n",
              "      <th>r2_score</th>\n",
              "      <th>explained_variance</th>\n",
              "    </tr>\n",
              "  </thead>\n",
              "  <tbody>\n",
              "    <tr>\n",
              "      <th>0</th>\n",
              "      <td>7.082958</td>\n",
              "      <td>77.61926</td>\n",
              "      <td>2.643458</td>\n",
              "      <td>5.500946</td>\n",
              "      <td>0.042356</td>\n",
              "      <td>0.043612</td>\n",
              "    </tr>\n",
              "  </tbody>\n",
              "</table>\n",
              "</div>"
            ],
            "text/plain": [
              "   mean_absolute_error  mean_squared_error  ...  r2_score  explained_variance\n",
              "0             7.082958            77.61926  ...  0.042356            0.043612\n",
              "\n",
              "[1 rows x 6 columns]"
            ]
          },
          "metadata": {},
          "execution_count": 52
        }
      ]
    },
    {
      "cell_type": "markdown",
      "metadata": {
        "id": "5DCwKqdrrRIi"
      },
      "source": [
        "### Prediction"
      ]
    },
    {
      "cell_type": "code",
      "metadata": {
        "id": "S2ElHHJR98WJ",
        "colab": {
          "base_uri": "https://localhost:8080/",
          "height": 419
        },
        "outputId": "23dea9f5-c780-4b25-c54a-0183ea8975c7"
      },
      "source": [
        "# Prediction\n",
        "%%bigquery --project $project_id\n",
        "\n",
        "SELECT\n",
        "  predicted_label, \n",
        "  label,\n",
        "  trip_type, \n",
        "  season, \n",
        "  borough, \n",
        "  trip_distance, \n",
        "  trip_speed\n",
        "FROM\n",
        "  ML.PREDICT(MODEL `NY_taxi_tip.numerical_model2`,\n",
        "(SELECT label, trip_type, season, borough, trip_distance, (trip_distance/trip_length) as trip_speed\n",
        "FROM (\n",
        "WITH T AS (SELECT * FROM `bigquery-public-data.new_york_taxi_trips.tlc_green_trips_2018` \n",
        "           WHERE EXTRACT(HOUR FROM pickup_datetime) > 20\n",
        "          LIMIT 10000),\n",
        "     Z AS (SELECT * FROM `bigquery-public-data.new_york_taxi_trips.taxi_zone_geom`)\n",
        "SELECT\n",
        "    ROUND(tip_amount/fare_amount * 100, 2) as label,\n",
        "    trip_type,\n",
        "    (CASE\n",
        "    WHEN pickup_datetime BETWEEN \"2018-03-20\" And \"2018-06-20\" THEN \"Spring\"\n",
        "    WHEN pickup_datetime BETWEEN \"2018-06-22\" And \"2018-09-21\" THEN \"Summer\"\n",
        "    WHEN pickup_datetime BETWEEN \"2018-09-22\" And \"2018-12-22\" THEN \"Fall\"\n",
        "    ELSE \"Winter\"\n",
        "    END) AS season,\n",
        "    borough,\n",
        "    trip_distance,\n",
        "    TIMESTAMP_DIFF(dropoff_datetime,pickup_datetime, minute) AS trip_length,\n",
        "FROM \n",
        "    (T JOIN Z ON T.pickup_location_id = Z.zone_id)\n",
        " WHERE\n",
        "    fare_amount is not NULL and fare_amount > 0 and tip_amount/fare_amount < 1)   \n",
        "WHERE trip_length IS NOT NULL AND trip_length != 0 ))\n"
      ],
      "execution_count": null,
      "outputs": [
        {
          "output_type": "execute_result",
          "data": {
            "text/html": [
              "<div>\n",
              "<style scoped>\n",
              "    .dataframe tbody tr th:only-of-type {\n",
              "        vertical-align: middle;\n",
              "    }\n",
              "\n",
              "    .dataframe tbody tr th {\n",
              "        vertical-align: top;\n",
              "    }\n",
              "\n",
              "    .dataframe thead th {\n",
              "        text-align: right;\n",
              "    }\n",
              "</style>\n",
              "<table border=\"1\" class=\"dataframe\">\n",
              "  <thead>\n",
              "    <tr style=\"text-align: right;\">\n",
              "      <th></th>\n",
              "      <th>predicted_label</th>\n",
              "      <th>trip_type</th>\n",
              "      <th>season</th>\n",
              "      <th>borough</th>\n",
              "      <th>trip_distance</th>\n",
              "      <th>trip_speed</th>\n",
              "    </tr>\n",
              "  </thead>\n",
              "  <tbody>\n",
              "    <tr>\n",
              "      <th>0</th>\n",
              "      <td>5.385071</td>\n",
              "      <td>1</td>\n",
              "      <td>Fall</td>\n",
              "      <td>EWR</td>\n",
              "      <td>15.14</td>\n",
              "      <td>0.420555556</td>\n",
              "    </tr>\n",
              "    <tr>\n",
              "      <th>1</th>\n",
              "      <td>0.765212</td>\n",
              "      <td>2</td>\n",
              "      <td>Fall</td>\n",
              "      <td>EWR</td>\n",
              "      <td>17.62</td>\n",
              "      <td>0.33245283</td>\n",
              "    </tr>\n",
              "    <tr>\n",
              "      <th>2</th>\n",
              "      <td>4.121010</td>\n",
              "      <td>1</td>\n",
              "      <td>Fall</td>\n",
              "      <td>Bronx</td>\n",
              "      <td>9.86</td>\n",
              "      <td>0.410833333</td>\n",
              "    </tr>\n",
              "    <tr>\n",
              "      <th>3</th>\n",
              "      <td>4.470576</td>\n",
              "      <td>1</td>\n",
              "      <td>Fall</td>\n",
              "      <td>Bronx</td>\n",
              "      <td>8.15</td>\n",
              "      <td>0.428947368</td>\n",
              "    </tr>\n",
              "    <tr>\n",
              "      <th>4</th>\n",
              "      <td>0.328964</td>\n",
              "      <td>2</td>\n",
              "      <td>Fall</td>\n",
              "      <td>Bronx</td>\n",
              "      <td>20.2</td>\n",
              "      <td>0.517948718</td>\n",
              "    </tr>\n",
              "    <tr>\n",
              "      <th>...</th>\n",
              "      <td>...</td>\n",
              "      <td>...</td>\n",
              "      <td>...</td>\n",
              "      <td>...</td>\n",
              "      <td>...</td>\n",
              "      <td>...</td>\n",
              "    </tr>\n",
              "    <tr>\n",
              "      <th>9171</th>\n",
              "      <td>5.542766</td>\n",
              "      <td>1</td>\n",
              "      <td>Winter</td>\n",
              "      <td>Staten Island</td>\n",
              "      <td>17.86</td>\n",
              "      <td>0.541212121</td>\n",
              "    </tr>\n",
              "    <tr>\n",
              "      <th>9172</th>\n",
              "      <td>4.247650</td>\n",
              "      <td>1</td>\n",
              "      <td>Winter</td>\n",
              "      <td>Staten Island</td>\n",
              "      <td>28.66</td>\n",
              "      <td>0.530740741</td>\n",
              "    </tr>\n",
              "    <tr>\n",
              "      <th>9173</th>\n",
              "      <td>5.880517</td>\n",
              "      <td>1</td>\n",
              "      <td>Winter</td>\n",
              "      <td>Staten Island</td>\n",
              "      <td>16.7</td>\n",
              "      <td>0.575862069</td>\n",
              "    </tr>\n",
              "    <tr>\n",
              "      <th>9174</th>\n",
              "      <td>6.792374</td>\n",
              "      <td>1</td>\n",
              "      <td>Winter</td>\n",
              "      <td>Staten Island</td>\n",
              "      <td>11.8</td>\n",
              "      <td>0.59</td>\n",
              "    </tr>\n",
              "    <tr>\n",
              "      <th>9175</th>\n",
              "      <td>2.358617</td>\n",
              "      <td>2</td>\n",
              "      <td>Winter</td>\n",
              "      <td>Staten Island</td>\n",
              "      <td>0</td>\n",
              "      <td>0</td>\n",
              "    </tr>\n",
              "  </tbody>\n",
              "</table>\n",
              "<p>9176 rows × 6 columns</p>\n",
              "</div>"
            ],
            "text/plain": [
              "      predicted_label trip_type  ... trip_distance   trip_speed\n",
              "0            5.385071         1  ...         15.14  0.420555556\n",
              "1            0.765212         2  ...         17.62   0.33245283\n",
              "2            4.121010         1  ...          9.86  0.410833333\n",
              "3            4.470576         1  ...          8.15  0.428947368\n",
              "4            0.328964         2  ...          20.2  0.517948718\n",
              "...               ...       ...  ...           ...          ...\n",
              "9171         5.542766         1  ...         17.86  0.541212121\n",
              "9172         4.247650         1  ...         28.66  0.530740741\n",
              "9173         5.880517         1  ...          16.7  0.575862069\n",
              "9174         6.792374         1  ...          11.8         0.59\n",
              "9175         2.358617         2  ...             0            0\n",
              "\n",
              "[9176 rows x 6 columns]"
            ]
          },
          "metadata": {},
          "execution_count": 53
        }
      ]
    },
    {
      "cell_type": "markdown",
      "metadata": {
        "id": "rUotzGLq9iUW"
      },
      "source": [
        "The prediction results seems to be similar to those of the linear regression model."
      ]
    },
    {
      "cell_type": "markdown",
      "metadata": {
        "id": "1oMTuN3H2VNu"
      },
      "source": [
        "## **Classification Model**\n",
        "\n",
        "Predicting a specific tip percentage using normal regression might not be a optimal task for the dataset we've chosen to work with. Therefore, we tried another classification model."
      ]
    },
    {
      "cell_type": "markdown",
      "metadata": {
        "id": "4yu_YssqfHub"
      },
      "source": [
        "### Data Overview"
      ]
    },
    {
      "cell_type": "markdown",
      "metadata": {
        "id": "uwUusgGMZl8o"
      },
      "source": [
        "After finishing the linear regression and deep neural network regression model, we deicided to explore another direction, where we could label the tip percentage below or equal to 5% to be \"0\" and the tip percentage above 5% to be \"1\" and build a classifier instead of a numeric predictor. An overview of the data selected is shown below. The features we included are exactly the same as the previous 2 regression models. The only difference is the \"label\" field, where we represent the tip percentages as \"1\" and \"0\" respectively."
      ]
    },
    {
      "cell_type": "code",
      "metadata": {
        "colab": {
          "base_uri": "https://localhost:8080/",
          "height": 359
        },
        "id": "cvEX8ABvSMJn",
        "outputId": "f08cda9b-4d09-4e1a-ddc5-f8b5dd3fc924"
      },
      "source": [
        "%%bigquery --project $project_id\n",
        "\n",
        "SELECT label, trip_type, season, borough, trip_distance, (trip_distance/trip_length) as trip_speed\n",
        "FROM (\n",
        "WITH T AS (SELECT * FROM `bigquery-public-data.new_york_taxi_trips.tlc_green_trips_2018` LIMIT 100000),\n",
        "     Z AS (SELECT * FROM `bigquery-public-data.new_york_taxi_trips.taxi_zone_geom`)\n",
        "SELECT\n",
        "    IF(tip_amount/fare_amount > 0.05, 1, 0) as label,\n",
        "    trip_type,\n",
        "    (CASE\n",
        "    WHEN pickup_datetime BETWEEN \"2018-03-20\" And \"2018-06-20\" THEN \"Spring\"\n",
        "    WHEN pickup_datetime BETWEEN \"2018-06-22\" And \"2018-09-21\" THEN \"Summer\"\n",
        "    WHEN pickup_datetime BETWEEN \"2018-09-22\" And \"2018-12-22\" THEN \"Fall\"\n",
        "    ELSE \"Winter\"\n",
        "    END) AS season,\n",
        "    borough,\n",
        "    trip_distance,\n",
        "    TIMESTAMP_DIFF(dropoff_datetime,pickup_datetime, minute) AS trip_length,\n",
        "FROM \n",
        "    (T JOIN Z ON T.pickup_location_id = Z.zone_id)\n",
        " WHERE\n",
        "    fare_amount is not NULL and fare_amount > 0 and tip_amount/fare_amount < 1)   \n",
        "WHERE trip_length IS NOT NULL AND trip_length != 0 \n",
        "LIMIT 10\n"
      ],
      "execution_count": null,
      "outputs": [
        {
          "output_type": "execute_result",
          "data": {
            "text/html": [
              "<div>\n",
              "<style scoped>\n",
              "    .dataframe tbody tr th:only-of-type {\n",
              "        vertical-align: middle;\n",
              "    }\n",
              "\n",
              "    .dataframe tbody tr th {\n",
              "        vertical-align: top;\n",
              "    }\n",
              "\n",
              "    .dataframe thead th {\n",
              "        text-align: right;\n",
              "    }\n",
              "</style>\n",
              "<table border=\"1\" class=\"dataframe\">\n",
              "  <thead>\n",
              "    <tr style=\"text-align: right;\">\n",
              "      <th></th>\n",
              "      <th>label</th>\n",
              "      <th>trip_type</th>\n",
              "      <th>season</th>\n",
              "      <th>borough</th>\n",
              "      <th>trip_distance</th>\n",
              "      <th>trip_speed</th>\n",
              "    </tr>\n",
              "  </thead>\n",
              "  <tbody>\n",
              "    <tr>\n",
              "      <th>0</th>\n",
              "      <td>1</td>\n",
              "      <td>1</td>\n",
              "      <td>Winter</td>\n",
              "      <td>Brooklyn</td>\n",
              "      <td>8.71</td>\n",
              "      <td>0.414761905</td>\n",
              "    </tr>\n",
              "    <tr>\n",
              "      <th>1</th>\n",
              "      <td>0</td>\n",
              "      <td>1</td>\n",
              "      <td>Winter</td>\n",
              "      <td>Queens</td>\n",
              "      <td>10.46</td>\n",
              "      <td>0.581111111</td>\n",
              "    </tr>\n",
              "    <tr>\n",
              "      <th>2</th>\n",
              "      <td>0</td>\n",
              "      <td>1</td>\n",
              "      <td>Winter</td>\n",
              "      <td>Manhattan</td>\n",
              "      <td>6.87</td>\n",
              "      <td>0.221612903</td>\n",
              "    </tr>\n",
              "    <tr>\n",
              "      <th>3</th>\n",
              "      <td>1</td>\n",
              "      <td>1</td>\n",
              "      <td>Winter</td>\n",
              "      <td>Manhattan</td>\n",
              "      <td>13.8</td>\n",
              "      <td>0.575</td>\n",
              "    </tr>\n",
              "    <tr>\n",
              "      <th>4</th>\n",
              "      <td>0</td>\n",
              "      <td>1</td>\n",
              "      <td>Winter</td>\n",
              "      <td>Brooklyn</td>\n",
              "      <td>17.59</td>\n",
              "      <td>0.43975</td>\n",
              "    </tr>\n",
              "    <tr>\n",
              "      <th>5</th>\n",
              "      <td>1</td>\n",
              "      <td>1</td>\n",
              "      <td>Winter</td>\n",
              "      <td>Manhattan</td>\n",
              "      <td>7.65</td>\n",
              "      <td>0.255</td>\n",
              "    </tr>\n",
              "    <tr>\n",
              "      <th>6</th>\n",
              "      <td>0</td>\n",
              "      <td>1</td>\n",
              "      <td>Winter</td>\n",
              "      <td>Brooklyn</td>\n",
              "      <td>12.44</td>\n",
              "      <td>0.460740741</td>\n",
              "    </tr>\n",
              "    <tr>\n",
              "      <th>7</th>\n",
              "      <td>1</td>\n",
              "      <td>1</td>\n",
              "      <td>Winter</td>\n",
              "      <td>Queens</td>\n",
              "      <td>8.46</td>\n",
              "      <td>0.313333333</td>\n",
              "    </tr>\n",
              "    <tr>\n",
              "      <th>8</th>\n",
              "      <td>0</td>\n",
              "      <td>1</td>\n",
              "      <td>Winter</td>\n",
              "      <td>Brooklyn</td>\n",
              "      <td>12.45</td>\n",
              "      <td>0.478846154</td>\n",
              "    </tr>\n",
              "    <tr>\n",
              "      <th>9</th>\n",
              "      <td>0</td>\n",
              "      <td>1</td>\n",
              "      <td>Winter</td>\n",
              "      <td>Brooklyn</td>\n",
              "      <td>7.15</td>\n",
              "      <td>0.238333333</td>\n",
              "    </tr>\n",
              "  </tbody>\n",
              "</table>\n",
              "</div>"
            ],
            "text/plain": [
              "   label trip_type  season    borough trip_distance   trip_speed\n",
              "0      1         1  Winter   Brooklyn          8.71  0.414761905\n",
              "1      0         1  Winter     Queens         10.46  0.581111111\n",
              "2      0         1  Winter  Manhattan          6.87  0.221612903\n",
              "3      1         1  Winter  Manhattan          13.8        0.575\n",
              "4      0         1  Winter   Brooklyn         17.59      0.43975\n",
              "5      1         1  Winter  Manhattan          7.65        0.255\n",
              "6      0         1  Winter   Brooklyn         12.44  0.460740741\n",
              "7      1         1  Winter     Queens          8.46  0.313333333\n",
              "8      0         1  Winter   Brooklyn         12.45  0.478846154\n",
              "9      0         1  Winter   Brooklyn          7.15  0.238333333"
            ]
          },
          "metadata": {},
          "execution_count": 54
        }
      ]
    },
    {
      "cell_type": "markdown",
      "metadata": {
        "id": "mrm1tHUNhzBF"
      },
      "source": [
        "---\n",
        "# Logistic Regression \n",
        "---"
      ]
    },
    {
      "cell_type": "markdown",
      "metadata": {
        "id": "s-Wvty6rfNfr"
      },
      "source": [
        "### Training"
      ]
    },
    {
      "cell_type": "markdown",
      "metadata": {
        "id": "AKC9qS0YcRue"
      },
      "source": [
        "We started building this classifier with the classic logistic regression model. Since training a classifier with only 2 possible labels is much less costly than training a numeric predictor, we included more training data (still in the range 13:00 to 14:00 in terms of time, which is consistent with our overall dataset division strategy) for this model (500000 datapoints compared to the previou 10000) with the hope that they can improve the overall accuracy of the model.\n",
        "\n",
        "The setup of the model and the training information are shown as below. The training loss decreases from the initial 0.66 to the final 0.58."
      ]
    },
    {
      "cell_type": "code",
      "metadata": {
        "colab": {
          "base_uri": "https://localhost:8080/",
          "height": 32
        },
        "id": "IibSctX8XW1f",
        "outputId": "1be2ca0f-2dd1-422c-d5e1-2d6566fd05c9"
      },
      "source": [
        "%%bigquery --project $project_id\n",
        "\n",
        "CREATE OR REPLACE MODEL `NY_taxi_tip.classification_model1` -- we'll call our model 'bikeshare_model'\n",
        "OPTIONS (model_type='logistic_reg') AS\n",
        "SELECT label, trip_type, season, borough, trip_distance, (trip_distance/trip_length) as trip_speed\n",
        "FROM (\n",
        "WITH T AS (SELECT * FROM `bigquery-public-data.new_york_taxi_trips.tlc_green_trips_2018` \n",
        "           WHERE EXTRACT(HOUR FROM pickup_datetime) = 13\n",
        "           LIMIT 500000),\n",
        "     Z AS (SELECT * FROM `bigquery-public-data.new_york_taxi_trips.taxi_zone_geom`)\n",
        "SELECT\n",
        "    IF(tip_amount/fare_amount > 0.05, 1, 0) as label,\n",
        "    trip_type,\n",
        "    (CASE\n",
        "    WHEN pickup_datetime BETWEEN \"2018-03-20\" And \"2018-06-20\" THEN \"Spring\"\n",
        "    WHEN pickup_datetime BETWEEN \"2018-06-22\" And \"2018-09-21\" THEN \"Summer\"\n",
        "    WHEN pickup_datetime BETWEEN \"2018-09-22\" And \"2018-12-22\" THEN \"Fall\"\n",
        "    ELSE \"Winter\"\n",
        "    END) AS season,\n",
        "    borough,\n",
        "    trip_distance,\n",
        "    TIMESTAMP_DIFF(dropoff_datetime,pickup_datetime, minute) AS trip_length,\n",
        "FROM \n",
        "    (T JOIN Z ON T.pickup_location_id = Z.zone_id)\n",
        " WHERE\n",
        "    fare_amount is not NULL and fare_amount > 0 and tip_amount/fare_amount < 1)   \n",
        "WHERE trip_length IS NOT NULL AND trip_length != 0 "
      ],
      "execution_count": null,
      "outputs": [
        {
          "output_type": "execute_result",
          "data": {
            "text/html": [
              "<div>\n",
              "<style scoped>\n",
              "    .dataframe tbody tr th:only-of-type {\n",
              "        vertical-align: middle;\n",
              "    }\n",
              "\n",
              "    .dataframe tbody tr th {\n",
              "        vertical-align: top;\n",
              "    }\n",
              "\n",
              "    .dataframe thead th {\n",
              "        text-align: right;\n",
              "    }\n",
              "</style>\n",
              "<table border=\"1\" class=\"dataframe\">\n",
              "  <thead>\n",
              "    <tr style=\"text-align: right;\">\n",
              "      <th></th>\n",
              "    </tr>\n",
              "  </thead>\n",
              "  <tbody>\n",
              "  </tbody>\n",
              "</table>\n",
              "</div>"
            ],
            "text/plain": [
              "Empty DataFrame\n",
              "Columns: []\n",
              "Index: []"
            ]
          },
          "metadata": {},
          "execution_count": 55
        }
      ]
    },
    {
      "cell_type": "code",
      "metadata": {
        "colab": {
          "base_uri": "https://localhost:8080/",
          "height": 235
        },
        "id": "Zn8fb8JaYgep",
        "outputId": "83e3549b-905a-4be4-f34f-8329520ef901"
      },
      "source": [
        "%%bigquery --project $project_id\n",
        "\n",
        "# Run cell to view training stats\n",
        "\n",
        "SELECT\n",
        "  *\n",
        "FROM\n",
        "  ML.TRAINING_INFO(MODEL `NY_taxi_tip.classification_model1`)\n",
        "ORDER BY iteration"
      ],
      "execution_count": null,
      "outputs": [
        {
          "output_type": "execute_result",
          "data": {
            "text/html": [
              "<div>\n",
              "<style scoped>\n",
              "    .dataframe tbody tr th:only-of-type {\n",
              "        vertical-align: middle;\n",
              "    }\n",
              "\n",
              "    .dataframe tbody tr th {\n",
              "        vertical-align: top;\n",
              "    }\n",
              "\n",
              "    .dataframe thead th {\n",
              "        text-align: right;\n",
              "    }\n",
              "</style>\n",
              "<table border=\"1\" class=\"dataframe\">\n",
              "  <thead>\n",
              "    <tr style=\"text-align: right;\">\n",
              "      <th></th>\n",
              "      <th>training_run</th>\n",
              "      <th>iteration</th>\n",
              "      <th>loss</th>\n",
              "      <th>eval_loss</th>\n",
              "      <th>learning_rate</th>\n",
              "      <th>duration_ms</th>\n",
              "    </tr>\n",
              "  </thead>\n",
              "  <tbody>\n",
              "    <tr>\n",
              "      <th>0</th>\n",
              "      <td>0</td>\n",
              "      <td>0</td>\n",
              "      <td>0.662775</td>\n",
              "      <td>0.663440</td>\n",
              "      <td>0.2</td>\n",
              "      <td>6558</td>\n",
              "    </tr>\n",
              "    <tr>\n",
              "      <th>1</th>\n",
              "      <td>0</td>\n",
              "      <td>1</td>\n",
              "      <td>0.626666</td>\n",
              "      <td>0.628377</td>\n",
              "      <td>0.4</td>\n",
              "      <td>7970</td>\n",
              "    </tr>\n",
              "    <tr>\n",
              "      <th>2</th>\n",
              "      <td>0</td>\n",
              "      <td>2</td>\n",
              "      <td>0.601810</td>\n",
              "      <td>0.604717</td>\n",
              "      <td>0.8</td>\n",
              "      <td>7899</td>\n",
              "    </tr>\n",
              "    <tr>\n",
              "      <th>3</th>\n",
              "      <td>0</td>\n",
              "      <td>3</td>\n",
              "      <td>0.592283</td>\n",
              "      <td>0.595564</td>\n",
              "      <td>1.6</td>\n",
              "      <td>8190</td>\n",
              "    </tr>\n",
              "    <tr>\n",
              "      <th>4</th>\n",
              "      <td>0</td>\n",
              "      <td>4</td>\n",
              "      <td>0.586074</td>\n",
              "      <td>0.588449</td>\n",
              "      <td>3.2</td>\n",
              "      <td>8145</td>\n",
              "    </tr>\n",
              "    <tr>\n",
              "      <th>5</th>\n",
              "      <td>0</td>\n",
              "      <td>5</td>\n",
              "      <td>0.584561</td>\n",
              "      <td>0.587376</td>\n",
              "      <td>1.6</td>\n",
              "      <td>7452</td>\n",
              "    </tr>\n",
              "  </tbody>\n",
              "</table>\n",
              "</div>"
            ],
            "text/plain": [
              "   training_run  iteration      loss  eval_loss  learning_rate  duration_ms\n",
              "0             0          0  0.662775   0.663440            0.2         6558\n",
              "1             0          1  0.626666   0.628377            0.4         7970\n",
              "2             0          2  0.601810   0.604717            0.8         7899\n",
              "3             0          3  0.592283   0.595564            1.6         8190\n",
              "4             0          4  0.586074   0.588449            3.2         8145\n",
              "5             0          5  0.584561   0.587376            1.6         7452"
            ]
          },
          "metadata": {},
          "execution_count": 56
        }
      ]
    },
    {
      "cell_type": "markdown",
      "metadata": {
        "id": "2dSIBqerfEJu"
      },
      "source": [
        "### Validation"
      ]
    },
    {
      "cell_type": "markdown",
      "metadata": {
        "id": "KGdCUAzMeoMZ"
      },
      "source": [
        "Then we evaluate our model using our validation dataset. The accuracy and the precision of the model are around 0.69 and 0.59 for the validation, which is a relatively reasonable and acceptable result. "
      ]
    },
    {
      "cell_type": "code",
      "metadata": {
        "colab": {
          "base_uri": "https://localhost:8080/",
          "height": 80
        },
        "id": "ZZwoKALsczD-",
        "outputId": "730e61d6-3d4c-4334-eb46-6553ff961866"
      },
      "source": [
        "%%bigquery --project $project_id\n",
        "\n",
        "SELECT\n",
        "  *\n",
        "FROM\n",
        "  ML.EVALUATE(MODEL `NY_taxi_tip.classification_model1`,\n",
        "(SELECT label, trip_type, season, borough, trip_distance, (trip_distance/trip_length) as trip_speed\n",
        "FROM (\n",
        "WITH T AS (SELECT * FROM `bigquery-public-data.new_york_taxi_trips.tlc_green_trips_2018` \n",
        "           WHERE EXTRACT(HOUR FROM pickup_datetime) = 14\n",
        "           LIMIT 100000),\n",
        "     Z AS (SELECT * FROM `bigquery-public-data.new_york_taxi_trips.taxi_zone_geom`)\n",
        "SELECT\n",
        "    IF(tip_amount/fare_amount > 0.05, 1, 0) as label,\n",
        "    trip_type,\n",
        "    (CASE\n",
        "    WHEN pickup_datetime BETWEEN \"2018-03-20\" And \"2018-06-20\" THEN \"Spring\"\n",
        "    WHEN pickup_datetime BETWEEN \"2018-06-22\" And \"2018-09-21\" THEN \"Summer\"\n",
        "    WHEN pickup_datetime BETWEEN \"2018-09-22\" And \"2018-12-22\" THEN \"Fall\"\n",
        "    ELSE \"Winter\"\n",
        "    END) AS season,\n",
        "    borough,\n",
        "    trip_distance,\n",
        "    TIMESTAMP_DIFF(dropoff_datetime,pickup_datetime, minute) AS trip_length,\n",
        "FROM \n",
        "    (T JOIN Z ON T.pickup_location_id = Z.zone_id)\n",
        " WHERE\n",
        "    fare_amount is not NULL and fare_amount > 0 and tip_amount/fare_amount < 1)   \n",
        "WHERE trip_length IS NOT NULL AND trip_length != 0))"
      ],
      "execution_count": null,
      "outputs": [
        {
          "output_type": "execute_result",
          "data": {
            "text/html": [
              "<div>\n",
              "<style scoped>\n",
              "    .dataframe tbody tr th:only-of-type {\n",
              "        vertical-align: middle;\n",
              "    }\n",
              "\n",
              "    .dataframe tbody tr th {\n",
              "        vertical-align: top;\n",
              "    }\n",
              "\n",
              "    .dataframe thead th {\n",
              "        text-align: right;\n",
              "    }\n",
              "</style>\n",
              "<table border=\"1\" class=\"dataframe\">\n",
              "  <thead>\n",
              "    <tr style=\"text-align: right;\">\n",
              "      <th></th>\n",
              "      <th>precision</th>\n",
              "      <th>recall</th>\n",
              "      <th>accuracy</th>\n",
              "      <th>f1_score</th>\n",
              "      <th>log_loss</th>\n",
              "      <th>roc_auc</th>\n",
              "    </tr>\n",
              "  </thead>\n",
              "  <tbody>\n",
              "    <tr>\n",
              "      <th>0</th>\n",
              "      <td>0.590361</td>\n",
              "      <td>0.001615</td>\n",
              "      <td>0.694652</td>\n",
              "      <td>0.00322</td>\n",
              "      <td>0.588615</td>\n",
              "      <td>0.639728</td>\n",
              "    </tr>\n",
              "  </tbody>\n",
              "</table>\n",
              "</div>"
            ],
            "text/plain": [
              "   precision    recall  accuracy  f1_score  log_loss   roc_auc\n",
              "0   0.590361  0.001615  0.694652   0.00322  0.588615  0.639728"
            ]
          },
          "metadata": {},
          "execution_count": 57
        }
      ]
    },
    {
      "cell_type": "markdown",
      "metadata": {
        "id": "zpWcKTgHfCaO"
      },
      "source": [
        "### Test"
      ]
    },
    {
      "cell_type": "markdown",
      "metadata": {
        "id": "Wh50j52bhED6"
      },
      "source": [
        "Then we evaluate the model on the test dataset. The accuracy of the model decreases to around 0.66 previous 0.69, but the precision of the model increases to 0.67 compared to 0.59. The drop in performance could be justified with the same reason we discussed in the numeric model sections. However, the overall performance discrepancy is not very big and when evaluated on the testing dataset, the model is still decent."
      ]
    },
    {
      "cell_type": "code",
      "metadata": {
        "colab": {
          "base_uri": "https://localhost:8080/",
          "height": 80
        },
        "id": "KWxOzXJ5dqyv",
        "outputId": "9b643eaa-703a-45f8-ce64-220d0b37dcae"
      },
      "source": [
        "%%bigquery --project $project_id\n",
        "\n",
        "SELECT\n",
        "  *\n",
        "FROM\n",
        "  ML.EVALUATE(MODEL `NY_taxi_tip.classification_model1`,\n",
        "(SELECT label, trip_type, season, borough, trip_distance, (trip_distance/trip_length) as trip_speed\n",
        "FROM (\n",
        "WITH T AS (SELECT * FROM `bigquery-public-data.new_york_taxi_trips.tlc_green_trips_2018` \n",
        "           WHERE EXTRACT(HOUR FROM pickup_datetime) = 15\n",
        "           LIMIT 100000),\n",
        "     Z AS (SELECT * FROM `bigquery-public-data.new_york_taxi_trips.taxi_zone_geom`)\n",
        "SELECT\n",
        "    IF(tip_amount/fare_amount > 0.05, 1, 0) as label,\n",
        "    trip_type,\n",
        "    (CASE\n",
        "    WHEN pickup_datetime BETWEEN \"2018-03-20\" And \"2018-06-20\" THEN \"Spring\"\n",
        "    WHEN pickup_datetime BETWEEN \"2018-06-22\" And \"2018-09-21\" THEN \"Summer\"\n",
        "    WHEN pickup_datetime BETWEEN \"2018-09-22\" And \"2018-12-22\" THEN \"Fall\"\n",
        "    ELSE \"Winter\"\n",
        "    END) AS season,\n",
        "    borough,\n",
        "    trip_distance,\n",
        "    TIMESTAMP_DIFF(dropoff_datetime,pickup_datetime, minute) AS trip_length,\n",
        "FROM \n",
        "    (T JOIN Z ON T.pickup_location_id = Z.zone_id)\n",
        " WHERE\n",
        "    fare_amount is not NULL and fare_amount > 0 and tip_amount/fare_amount < 1)   \n",
        "WHERE trip_length IS NOT NULL AND trip_length != 0))"
      ],
      "execution_count": null,
      "outputs": [
        {
          "output_type": "execute_result",
          "data": {
            "text/html": [
              "<div>\n",
              "<style scoped>\n",
              "    .dataframe tbody tr th:only-of-type {\n",
              "        vertical-align: middle;\n",
              "    }\n",
              "\n",
              "    .dataframe tbody tr th {\n",
              "        vertical-align: top;\n",
              "    }\n",
              "\n",
              "    .dataframe thead th {\n",
              "        text-align: right;\n",
              "    }\n",
              "</style>\n",
              "<table border=\"1\" class=\"dataframe\">\n",
              "  <thead>\n",
              "    <tr style=\"text-align: right;\">\n",
              "      <th></th>\n",
              "      <th>precision</th>\n",
              "      <th>recall</th>\n",
              "      <th>accuracy</th>\n",
              "      <th>f1_score</th>\n",
              "      <th>log_loss</th>\n",
              "      <th>roc_auc</th>\n",
              "    </tr>\n",
              "  </thead>\n",
              "  <tbody>\n",
              "    <tr>\n",
              "      <th>0</th>\n",
              "      <td>0.662791</td>\n",
              "      <td>0.001774</td>\n",
              "      <td>0.677175</td>\n",
              "      <td>0.003538</td>\n",
              "      <td>0.606212</td>\n",
              "      <td>0.634092</td>\n",
              "    </tr>\n",
              "  </tbody>\n",
              "</table>\n",
              "</div>"
            ],
            "text/plain": [
              "   precision    recall  accuracy  f1_score  log_loss   roc_auc\n",
              "0   0.662791  0.001774  0.677175  0.003538  0.606212  0.634092"
            ]
          },
          "metadata": {},
          "execution_count": 58
        }
      ]
    },
    {
      "cell_type": "markdown",
      "metadata": {
        "id": "9iq4tULqi1Fv"
      },
      "source": [
        "### Prediction"
      ]
    },
    {
      "cell_type": "markdown",
      "metadata": {
        "id": "axrFlgQAi4Zj"
      },
      "source": [
        "Overall, the training, validation and testing dataset are all selected in the time of afternoon, so the model does not seen any information about the tip percentage in the night. Therefore, we used the time after 20:00 for the prediction section.\n",
        "\n",
        "Part of the prediction is shown in the table below. The table included the original label, predicted label and all the features we used in the model. The predictions shown is reasonable, as about 70% of the predictions are correct, which agrees with our previous evaluations."
      ]
    },
    {
      "cell_type": "code",
      "metadata": {
        "colab": {
          "base_uri": "https://localhost:8080/",
          "height": 419
        },
        "id": "9T3tLU51fYB4",
        "outputId": "7d216662-a9ff-4020-c20d-2b70037457a2"
      },
      "source": [
        "%%bigquery --project $project_id\n",
        "\n",
        "SELECT\n",
        "  predicted_label, label, trip_type, season, borough, trip_distance, trip_speed\n",
        "FROM\n",
        "  ML.PREDICT(MODEL `NY_taxi_tip.classification_model1`,\n",
        "(SELECT label, trip_type, season, borough, trip_distance, (trip_distance/trip_length) as trip_speed\n",
        "FROM (\n",
        "WITH T AS (SELECT * FROM `bigquery-public-data.new_york_taxi_trips.tlc_green_trips_2018` \n",
        "           WHERE EXTRACT(HOUR FROM pickup_datetime) > 20\n",
        "           LIMIT 1000),\n",
        "     Z AS (SELECT * FROM `bigquery-public-data.new_york_taxi_trips.taxi_zone_geom`)\n",
        "SELECT\n",
        "    IF(tip_amount/fare_amount > 0.05, 1, 0) as label,\n",
        "    trip_type,\n",
        "    (CASE\n",
        "    WHEN pickup_datetime BETWEEN \"2018-03-20\" And \"2018-06-20\" THEN \"Spring\"\n",
        "    WHEN pickup_datetime BETWEEN \"2018-06-22\" And \"2018-09-21\" THEN \"Summer\"\n",
        "    WHEN pickup_datetime BETWEEN \"2018-09-22\" And \"2018-12-22\" THEN \"Fall\"\n",
        "    ELSE \"Winter\"\n",
        "    END) AS season,\n",
        "    borough,\n",
        "    trip_distance,\n",
        "    TIMESTAMP_DIFF(dropoff_datetime,pickup_datetime, minute) AS trip_length,\n",
        "FROM \n",
        "    (T JOIN Z ON T.pickup_location_id = Z.zone_id)\n",
        " WHERE\n",
        "    fare_amount is not NULL and fare_amount > 0 and tip_amount/fare_amount < 1)   \n",
        "WHERE trip_length IS NOT NULL AND trip_length != 0))\n",
        "LIMIT 100"
      ],
      "execution_count": null,
      "outputs": [
        {
          "output_type": "execute_result",
          "data": {
            "text/html": [
              "<div>\n",
              "<style scoped>\n",
              "    .dataframe tbody tr th:only-of-type {\n",
              "        vertical-align: middle;\n",
              "    }\n",
              "\n",
              "    .dataframe tbody tr th {\n",
              "        vertical-align: top;\n",
              "    }\n",
              "\n",
              "    .dataframe thead th {\n",
              "        text-align: right;\n",
              "    }\n",
              "</style>\n",
              "<table border=\"1\" class=\"dataframe\">\n",
              "  <thead>\n",
              "    <tr style=\"text-align: right;\">\n",
              "      <th></th>\n",
              "      <th>predicted_label</th>\n",
              "      <th>label</th>\n",
              "      <th>trip_type</th>\n",
              "      <th>season</th>\n",
              "      <th>borough</th>\n",
              "      <th>trip_distance</th>\n",
              "      <th>trip_speed</th>\n",
              "    </tr>\n",
              "  </thead>\n",
              "  <tbody>\n",
              "    <tr>\n",
              "      <th>0</th>\n",
              "      <td>0</td>\n",
              "      <td>1</td>\n",
              "      <td>1</td>\n",
              "      <td>Winter</td>\n",
              "      <td>Queens</td>\n",
              "      <td>11.93</td>\n",
              "      <td>0.322432432</td>\n",
              "    </tr>\n",
              "    <tr>\n",
              "      <th>1</th>\n",
              "      <td>0</td>\n",
              "      <td>0</td>\n",
              "      <td>1</td>\n",
              "      <td>Winter</td>\n",
              "      <td>Queens</td>\n",
              "      <td>14.07</td>\n",
              "      <td>0.781666667</td>\n",
              "    </tr>\n",
              "    <tr>\n",
              "      <th>2</th>\n",
              "      <td>0</td>\n",
              "      <td>0</td>\n",
              "      <td>1</td>\n",
              "      <td>Winter</td>\n",
              "      <td>Queens</td>\n",
              "      <td>8.2</td>\n",
              "      <td>0.205</td>\n",
              "    </tr>\n",
              "    <tr>\n",
              "      <th>3</th>\n",
              "      <td>0</td>\n",
              "      <td>1</td>\n",
              "      <td>1</td>\n",
              "      <td>Winter</td>\n",
              "      <td>Brooklyn</td>\n",
              "      <td>8.87</td>\n",
              "      <td>0.466842105</td>\n",
              "    </tr>\n",
              "    <tr>\n",
              "      <th>4</th>\n",
              "      <td>0</td>\n",
              "      <td>0</td>\n",
              "      <td>1</td>\n",
              "      <td>Winter</td>\n",
              "      <td>Queens</td>\n",
              "      <td>14.4</td>\n",
              "      <td>0.351219512</td>\n",
              "    </tr>\n",
              "    <tr>\n",
              "      <th>...</th>\n",
              "      <td>...</td>\n",
              "      <td>...</td>\n",
              "      <td>...</td>\n",
              "      <td>...</td>\n",
              "      <td>...</td>\n",
              "      <td>...</td>\n",
              "      <td>...</td>\n",
              "    </tr>\n",
              "    <tr>\n",
              "      <th>95</th>\n",
              "      <td>0</td>\n",
              "      <td>0</td>\n",
              "      <td>1</td>\n",
              "      <td>Spring</td>\n",
              "      <td>Manhattan</td>\n",
              "      <td>11.1</td>\n",
              "      <td>0.37</td>\n",
              "    </tr>\n",
              "    <tr>\n",
              "      <th>96</th>\n",
              "      <td>0</td>\n",
              "      <td>1</td>\n",
              "      <td>1</td>\n",
              "      <td>Spring</td>\n",
              "      <td>Brooklyn</td>\n",
              "      <td>8.75</td>\n",
              "      <td>0.35</td>\n",
              "    </tr>\n",
              "    <tr>\n",
              "      <th>97</th>\n",
              "      <td>0</td>\n",
              "      <td>0</td>\n",
              "      <td>1</td>\n",
              "      <td>Spring</td>\n",
              "      <td>Bronx</td>\n",
              "      <td>11.2</td>\n",
              "      <td>0.4</td>\n",
              "    </tr>\n",
              "    <tr>\n",
              "      <th>98</th>\n",
              "      <td>0</td>\n",
              "      <td>1</td>\n",
              "      <td>1</td>\n",
              "      <td>Spring</td>\n",
              "      <td>Manhattan</td>\n",
              "      <td>7.23</td>\n",
              "      <td>0.267777778</td>\n",
              "    </tr>\n",
              "    <tr>\n",
              "      <th>99</th>\n",
              "      <td>0</td>\n",
              "      <td>0</td>\n",
              "      <td>1</td>\n",
              "      <td>Spring</td>\n",
              "      <td>Brooklyn</td>\n",
              "      <td>20.31</td>\n",
              "      <td>0.615454545</td>\n",
              "    </tr>\n",
              "  </tbody>\n",
              "</table>\n",
              "<p>100 rows × 7 columns</p>\n",
              "</div>"
            ],
            "text/plain": [
              "    predicted_label  label trip_type  ...    borough trip_distance   trip_speed\n",
              "0                 0      1         1  ...     Queens         11.93  0.322432432\n",
              "1                 0      0         1  ...     Queens         14.07  0.781666667\n",
              "2                 0      0         1  ...     Queens           8.2        0.205\n",
              "3                 0      1         1  ...   Brooklyn          8.87  0.466842105\n",
              "4                 0      0         1  ...     Queens          14.4  0.351219512\n",
              "..              ...    ...       ...  ...        ...           ...          ...\n",
              "95                0      0         1  ...  Manhattan          11.1         0.37\n",
              "96                0      1         1  ...   Brooklyn          8.75         0.35\n",
              "97                0      0         1  ...      Bronx          11.2          0.4\n",
              "98                0      1         1  ...  Manhattan          7.23  0.267777778\n",
              "99                0      0         1  ...   Brooklyn         20.31  0.615454545\n",
              "\n",
              "[100 rows x 7 columns]"
            ]
          },
          "metadata": {},
          "execution_count": 59
        }
      ]
    },
    {
      "cell_type": "markdown",
      "metadata": {
        "id": "Kh7P-gipiB0e"
      },
      "source": [
        "---\n",
        "# Boosted_tree_classifier\n",
        "---"
      ]
    },
    {
      "cell_type": "markdown",
      "metadata": {
        "id": "NI6qDtN1k0jL"
      },
      "source": [
        "### Training"
      ]
    },
    {
      "cell_type": "markdown",
      "metadata": {
        "id": "2mCm1lA6kcpX"
      },
      "source": [
        "To further improve the performance of our model, we tried another model type provided by BigQuery, the Boosted Tree Classifier, with all the other setups being exactly the same as the previous model. \n",
        "\n",
        "The ultimate training loss decreases from the 0.58 in the logistic regression model to 0.57, which is a improvement."
      ]
    },
    {
      "cell_type": "code",
      "metadata": {
        "colab": {
          "base_uri": "https://localhost:8080/",
          "height": 32
        },
        "id": "d1wradftht7d",
        "outputId": "c9dcff19-09ce-45dc-9183-b368407a981d"
      },
      "source": [
        "%%bigquery --project $project_id\n",
        "\n",
        "CREATE OR REPLACE MODEL `NY_taxi_tip.classification_model2` -- we'll call our model 'bikeshare_model'\n",
        "OPTIONS (model_type='boosted_tree_classifier') AS\n",
        "SELECT label, trip_type, season, borough, trip_distance, (trip_distance/trip_length) as trip_speed\n",
        "FROM (\n",
        "WITH T AS (SELECT * FROM `bigquery-public-data.new_york_taxi_trips.tlc_green_trips_2018` \n",
        "           WHERE EXTRACT(HOUR FROM pickup_datetime) = 13\n",
        "           LIMIT 500000),\n",
        "     Z AS (SELECT * FROM `bigquery-public-data.new_york_taxi_trips.taxi_zone_geom`)\n",
        "SELECT\n",
        "    IF(tip_amount/fare_amount > 0.05, 1, 0) as label,\n",
        "    trip_type,\n",
        "    (CASE\n",
        "    WHEN pickup_datetime BETWEEN \"2018-03-20\" And \"2018-06-20\" THEN \"Spring\"\n",
        "    WHEN pickup_datetime BETWEEN \"2018-06-22\" And \"2018-09-21\" THEN \"Summer\"\n",
        "    WHEN pickup_datetime BETWEEN \"2018-09-22\" And \"2018-12-22\" THEN \"Fall\"\n",
        "    ELSE \"Winter\"\n",
        "    END) AS season,\n",
        "    borough,\n",
        "    trip_distance,\n",
        "    TIMESTAMP_DIFF(dropoff_datetime,pickup_datetime, minute) AS trip_length,\n",
        "FROM \n",
        "    (T JOIN Z ON T.pickup_location_id = Z.zone_id)\n",
        " WHERE\n",
        "    fare_amount is not NULL and fare_amount > 0 and tip_amount/fare_amount < 1)   \n",
        "WHERE trip_length IS NOT NULL AND trip_length != 0 "
      ],
      "execution_count": null,
      "outputs": [
        {
          "output_type": "execute_result",
          "data": {
            "text/html": [
              "<div>\n",
              "<style scoped>\n",
              "    .dataframe tbody tr th:only-of-type {\n",
              "        vertical-align: middle;\n",
              "    }\n",
              "\n",
              "    .dataframe tbody tr th {\n",
              "        vertical-align: top;\n",
              "    }\n",
              "\n",
              "    .dataframe thead th {\n",
              "        text-align: right;\n",
              "    }\n",
              "</style>\n",
              "<table border=\"1\" class=\"dataframe\">\n",
              "  <thead>\n",
              "    <tr style=\"text-align: right;\">\n",
              "      <th></th>\n",
              "    </tr>\n",
              "  </thead>\n",
              "  <tbody>\n",
              "  </tbody>\n",
              "</table>\n",
              "</div>"
            ],
            "text/plain": [
              "Empty DataFrame\n",
              "Columns: []\n",
              "Index: []"
            ]
          },
          "metadata": {},
          "execution_count": 60
        }
      ]
    },
    {
      "cell_type": "code",
      "metadata": {
        "colab": {
          "base_uri": "https://localhost:8080/",
          "height": 204
        },
        "id": "V-MIEIRpht7o",
        "outputId": "166e0cb0-387a-4045-f91b-f70695a29661"
      },
      "source": [
        "%%bigquery --project $project_id\n",
        "\n",
        "# Run cell to view training stats\n",
        "\n",
        "SELECT\n",
        "  *\n",
        "FROM\n",
        "  ML.TRAINING_INFO(MODEL `NY_taxi_tip.classification_model2`)\n",
        "ORDER BY iteration"
      ],
      "execution_count": null,
      "outputs": [
        {
          "output_type": "execute_result",
          "data": {
            "text/html": [
              "<div>\n",
              "<style scoped>\n",
              "    .dataframe tbody tr th:only-of-type {\n",
              "        vertical-align: middle;\n",
              "    }\n",
              "\n",
              "    .dataframe tbody tr th {\n",
              "        vertical-align: top;\n",
              "    }\n",
              "\n",
              "    .dataframe thead th {\n",
              "        text-align: right;\n",
              "    }\n",
              "</style>\n",
              "<table border=\"1\" class=\"dataframe\">\n",
              "  <thead>\n",
              "    <tr style=\"text-align: right;\">\n",
              "      <th></th>\n",
              "      <th>training_run</th>\n",
              "      <th>iteration</th>\n",
              "      <th>loss</th>\n",
              "      <th>eval_loss</th>\n",
              "      <th>learning_rate</th>\n",
              "      <th>duration_ms</th>\n",
              "    </tr>\n",
              "  </thead>\n",
              "  <tbody>\n",
              "    <tr>\n",
              "      <th>0</th>\n",
              "      <td>0</td>\n",
              "      <td>1</td>\n",
              "      <td>0.635364</td>\n",
              "      <td>0.635714</td>\n",
              "      <td>0.3</td>\n",
              "      <td>165207</td>\n",
              "    </tr>\n",
              "    <tr>\n",
              "      <th>1</th>\n",
              "      <td>0</td>\n",
              "      <td>2</td>\n",
              "      <td>0.604971</td>\n",
              "      <td>0.606205</td>\n",
              "      <td>0.3</td>\n",
              "      <td>44</td>\n",
              "    </tr>\n",
              "    <tr>\n",
              "      <th>2</th>\n",
              "      <td>0</td>\n",
              "      <td>3</td>\n",
              "      <td>0.588028</td>\n",
              "      <td>0.589734</td>\n",
              "      <td>0.3</td>\n",
              "      <td>52</td>\n",
              "    </tr>\n",
              "    <tr>\n",
              "      <th>3</th>\n",
              "      <td>0</td>\n",
              "      <td>4</td>\n",
              "      <td>0.578623</td>\n",
              "      <td>0.580408</td>\n",
              "      <td>0.3</td>\n",
              "      <td>13181</td>\n",
              "    </tr>\n",
              "    <tr>\n",
              "      <th>4</th>\n",
              "      <td>0</td>\n",
              "      <td>5</td>\n",
              "      <td>0.572537</td>\n",
              "      <td>0.574698</td>\n",
              "      <td>0.3</td>\n",
              "      <td>39</td>\n",
              "    </tr>\n",
              "  </tbody>\n",
              "</table>\n",
              "</div>"
            ],
            "text/plain": [
              "   training_run  iteration      loss  eval_loss  learning_rate  duration_ms\n",
              "0             0          1  0.635364   0.635714            0.3       165207\n",
              "1             0          2  0.604971   0.606205            0.3           44\n",
              "2             0          3  0.588028   0.589734            0.3           52\n",
              "3             0          4  0.578623   0.580408            0.3        13181\n",
              "4             0          5  0.572537   0.574698            0.3           39"
            ]
          },
          "metadata": {},
          "execution_count": 62
        }
      ]
    },
    {
      "cell_type": "markdown",
      "metadata": {
        "id": "mBXvoL1ylBko"
      },
      "source": [
        "### Validation"
      ]
    },
    {
      "cell_type": "markdown",
      "metadata": {
        "id": "G-y91SATlEhz"
      },
      "source": [
        "When evaluated on the validation dataset, the accuracy and precision are around 0.7 and 0.55. Compared to the Logistic Regression model, there is a increase in accuracy but a decrease in the precision.\n"
      ]
    },
    {
      "cell_type": "code",
      "metadata": {
        "colab": {
          "base_uri": "https://localhost:8080/",
          "height": 80
        },
        "id": "JPx0mLAaht7p",
        "outputId": "1c39c2e1-5974-497a-c216-804a28918ece"
      },
      "source": [
        "%%bigquery --project $project_id\n",
        "\n",
        "SELECT\n",
        "  *\n",
        "FROM\n",
        "  ML.EVALUATE(MODEL `NY_taxi_tip.classification_model2`,\n",
        "(SELECT label, trip_type, season, borough, trip_distance, (trip_distance/trip_length) as trip_speed\n",
        "FROM (\n",
        "WITH T AS (SELECT * FROM `bigquery-public-data.new_york_taxi_trips.tlc_green_trips_2018` \n",
        "           WHERE EXTRACT(HOUR FROM pickup_datetime) = 14\n",
        "           LIMIT 100000),\n",
        "     Z AS (SELECT * FROM `bigquery-public-data.new_york_taxi_trips.taxi_zone_geom`)\n",
        "SELECT\n",
        "    IF(tip_amount/fare_amount > 0.05, 1, 0) as label,\n",
        "    trip_type,\n",
        "    (CASE\n",
        "    WHEN pickup_datetime BETWEEN \"2018-03-20\" And \"2018-06-20\" THEN \"Spring\"\n",
        "    WHEN pickup_datetime BETWEEN \"2018-06-22\" And \"2018-09-21\" THEN \"Summer\"\n",
        "    WHEN pickup_datetime BETWEEN \"2018-09-22\" And \"2018-12-22\" THEN \"Fall\"\n",
        "    ELSE \"Winter\"\n",
        "    END) AS season,\n",
        "    borough,\n",
        "    trip_distance,\n",
        "    TIMESTAMP_DIFF(dropoff_datetime,pickup_datetime, minute) AS trip_length,\n",
        "FROM \n",
        "    (T JOIN Z ON T.pickup_location_id = Z.zone_id)\n",
        " WHERE\n",
        "    fare_amount is not NULL and fare_amount > 0 and tip_amount/fare_amount < 1)   \n",
        "WHERE trip_length IS NOT NULL AND trip_length != 0))"
      ],
      "execution_count": null,
      "outputs": [
        {
          "output_type": "execute_result",
          "data": {
            "text/html": [
              "<div>\n",
              "<style scoped>\n",
              "    .dataframe tbody tr th:only-of-type {\n",
              "        vertical-align: middle;\n",
              "    }\n",
              "\n",
              "    .dataframe tbody tr th {\n",
              "        vertical-align: top;\n",
              "    }\n",
              "\n",
              "    .dataframe thead th {\n",
              "        text-align: right;\n",
              "    }\n",
              "</style>\n",
              "<table border=\"1\" class=\"dataframe\">\n",
              "  <thead>\n",
              "    <tr style=\"text-align: right;\">\n",
              "      <th></th>\n",
              "      <th>precision</th>\n",
              "      <th>recall</th>\n",
              "      <th>accuracy</th>\n",
              "      <th>f1_score</th>\n",
              "      <th>log_loss</th>\n",
              "      <th>roc_auc</th>\n",
              "    </tr>\n",
              "  </thead>\n",
              "  <tbody>\n",
              "    <tr>\n",
              "      <th>0</th>\n",
              "      <td>0.549883</td>\n",
              "      <td>0.138356</td>\n",
              "      <td>0.700062</td>\n",
              "      <td>0.221085</td>\n",
              "      <td>0.577258</td>\n",
              "      <td>0.671906</td>\n",
              "    </tr>\n",
              "  </tbody>\n",
              "</table>\n",
              "</div>"
            ],
            "text/plain": [
              "   precision    recall  accuracy  f1_score  log_loss   roc_auc\n",
              "0   0.549883  0.138356  0.700062  0.221085  0.577258  0.671906"
            ]
          },
          "metadata": {},
          "execution_count": 63
        }
      ]
    },
    {
      "cell_type": "markdown",
      "metadata": {
        "id": "VUDgat4OldWi"
      },
      "source": [
        "### Testing"
      ]
    },
    {
      "cell_type": "markdown",
      "metadata": {
        "id": "uyhMDSLjlhZS"
      },
      "source": [
        "When evaluated on the testing set, the overall performance dropped (0.68 accuracy and 0.54 precision) compared to the validation set (0.70 accuracy and 0.55 precision), for the possible reasons that we discussed about in the Logistic Regression model."
      ]
    },
    {
      "cell_type": "code",
      "metadata": {
        "colab": {
          "base_uri": "https://localhost:8080/",
          "height": 80
        },
        "id": "jt1Oj0tyht7p",
        "outputId": "2803d274-57b3-4c43-bfd1-7b317f85e7cb"
      },
      "source": [
        "%%bigquery --project $project_id\n",
        "\n",
        "SELECT\n",
        "  *\n",
        "FROM\n",
        "  ML.EVALUATE(MODEL `NY_taxi_tip.classification_model2`,\n",
        "(SELECT label, trip_type, season, borough, trip_distance, (trip_distance/trip_length) as trip_speed\n",
        "FROM (\n",
        "WITH T AS (SELECT * FROM `bigquery-public-data.new_york_taxi_trips.tlc_green_trips_2018` \n",
        "           WHERE EXTRACT(HOUR FROM pickup_datetime) = 15\n",
        "           LIMIT 100000),\n",
        "     Z AS (SELECT * FROM `bigquery-public-data.new_york_taxi_trips.taxi_zone_geom`)\n",
        "SELECT\n",
        "    IF(tip_amount/fare_amount > 0.05, 1, 0) as label,\n",
        "    trip_type,\n",
        "    (CASE\n",
        "    WHEN pickup_datetime BETWEEN \"2018-03-20\" And \"2018-06-20\" THEN \"Spring\"\n",
        "    WHEN pickup_datetime BETWEEN \"2018-06-22\" And \"2018-09-21\" THEN \"Summer\"\n",
        "    WHEN pickup_datetime BETWEEN \"2018-09-22\" And \"2018-12-22\" THEN \"Fall\"\n",
        "    ELSE \"Winter\"\n",
        "    END) AS season,\n",
        "    borough,\n",
        "    trip_distance,\n",
        "    TIMESTAMP_DIFF(dropoff_datetime,pickup_datetime, minute) AS trip_length,\n",
        "FROM \n",
        "    (T JOIN Z ON T.pickup_location_id = Z.zone_id)\n",
        " WHERE\n",
        "    fare_amount is not NULL and fare_amount > 0 and tip_amount/fare_amount < 1)   \n",
        "WHERE trip_length IS NOT NULL AND trip_length != 0))"
      ],
      "execution_count": null,
      "outputs": [
        {
          "output_type": "execute_result",
          "data": {
            "text/html": [
              "<div>\n",
              "<style scoped>\n",
              "    .dataframe tbody tr th:only-of-type {\n",
              "        vertical-align: middle;\n",
              "    }\n",
              "\n",
              "    .dataframe tbody tr th {\n",
              "        vertical-align: top;\n",
              "    }\n",
              "\n",
              "    .dataframe thead th {\n",
              "        text-align: right;\n",
              "    }\n",
              "</style>\n",
              "<table border=\"1\" class=\"dataframe\">\n",
              "  <thead>\n",
              "    <tr style=\"text-align: right;\">\n",
              "      <th></th>\n",
              "      <th>precision</th>\n",
              "      <th>recall</th>\n",
              "      <th>accuracy</th>\n",
              "      <th>f1_score</th>\n",
              "      <th>log_loss</th>\n",
              "      <th>roc_auc</th>\n",
              "    </tr>\n",
              "  </thead>\n",
              "  <tbody>\n",
              "    <tr>\n",
              "      <th>0</th>\n",
              "      <td>0.544685</td>\n",
              "      <td>0.116756</td>\n",
              "      <td>0.684774</td>\n",
              "      <td>0.192293</td>\n",
              "      <td>0.591295</td>\n",
              "      <td>0.661383</td>\n",
              "    </tr>\n",
              "  </tbody>\n",
              "</table>\n",
              "</div>"
            ],
            "text/plain": [
              "   precision    recall  accuracy  f1_score  log_loss   roc_auc\n",
              "0   0.544685  0.116756  0.684774  0.192293  0.591295  0.661383"
            ]
          },
          "metadata": {},
          "execution_count": 64
        }
      ]
    },
    {
      "cell_type": "markdown",
      "metadata": {
        "id": "4CvNpUj-mEa4"
      },
      "source": [
        "### Prediction"
      ]
    },
    {
      "cell_type": "markdown",
      "metadata": {
        "id": "aRSt87himK_3"
      },
      "source": [
        "Similarly we used the model built with Boosted Tree Classfier to predict the tip percentage at night. Again, the overall prediction is very reasonable."
      ]
    },
    {
      "cell_type": "code",
      "metadata": {
        "colab": {
          "base_uri": "https://localhost:8080/",
          "height": 419
        },
        "id": "PJA8iBYaht7p",
        "outputId": "0c144ec2-3948-4f2f-d36c-3f428eb8beba"
      },
      "source": [
        "%%bigquery --project $project_id\n",
        "\n",
        "SELECT\n",
        "  predicted_label, label, trip_type, season, borough, trip_distance, trip_speed\n",
        "FROM\n",
        "  ML.PREDICT(MODEL `NY_taxi_tip.classification_model2`,\n",
        "(SELECT label, trip_type, season, borough, trip_distance, (trip_distance/trip_length) as trip_speed\n",
        "FROM (\n",
        "WITH T AS (SELECT * FROM `bigquery-public-data.new_york_taxi_trips.tlc_green_trips_2018` \n",
        "           WHERE EXTRACT(HOUR FROM pickup_datetime) > 20\n",
        "           LIMIT 1000),\n",
        "     Z AS (SELECT * FROM `bigquery-public-data.new_york_taxi_trips.taxi_zone_geom`)\n",
        "SELECT\n",
        "    IF(tip_amount/fare_amount > 0.05, 1, 0) as label,\n",
        "    trip_type,\n",
        "    (CASE\n",
        "    WHEN pickup_datetime BETWEEN \"2018-03-20\" And \"2018-06-20\" THEN \"Spring\"\n",
        "    WHEN pickup_datetime BETWEEN \"2018-06-22\" And \"2018-09-21\" THEN \"Summer\"\n",
        "    WHEN pickup_datetime BETWEEN \"2018-09-22\" And \"2018-12-22\" THEN \"Fall\"\n",
        "    ELSE \"Winter\"\n",
        "    END) AS season,\n",
        "    borough,\n",
        "    trip_distance,\n",
        "    TIMESTAMP_DIFF(dropoff_datetime,pickup_datetime, minute) AS trip_length,\n",
        "FROM \n",
        "    (T JOIN Z ON T.pickup_location_id = Z.zone_id)\n",
        " WHERE\n",
        "    fare_amount is not NULL and fare_amount > 0 and tip_amount/fare_amount < 1)   \n",
        "WHERE trip_length IS NOT NULL AND trip_length != 0))\n",
        "LIMIT 100"
      ],
      "execution_count": null,
      "outputs": [
        {
          "output_type": "execute_result",
          "data": {
            "text/html": [
              "<div>\n",
              "<style scoped>\n",
              "    .dataframe tbody tr th:only-of-type {\n",
              "        vertical-align: middle;\n",
              "    }\n",
              "\n",
              "    .dataframe tbody tr th {\n",
              "        vertical-align: top;\n",
              "    }\n",
              "\n",
              "    .dataframe thead th {\n",
              "        text-align: right;\n",
              "    }\n",
              "</style>\n",
              "<table border=\"1\" class=\"dataframe\">\n",
              "  <thead>\n",
              "    <tr style=\"text-align: right;\">\n",
              "      <th></th>\n",
              "      <th>predicted_label</th>\n",
              "      <th>label</th>\n",
              "      <th>trip_type</th>\n",
              "      <th>season</th>\n",
              "      <th>borough</th>\n",
              "      <th>trip_distance</th>\n",
              "      <th>trip_speed</th>\n",
              "    </tr>\n",
              "  </thead>\n",
              "  <tbody>\n",
              "    <tr>\n",
              "      <th>0</th>\n",
              "      <td>0</td>\n",
              "      <td>0</td>\n",
              "      <td>1</td>\n",
              "      <td>Winter</td>\n",
              "      <td>Queens</td>\n",
              "      <td>13.97</td>\n",
              "      <td>0.635</td>\n",
              "    </tr>\n",
              "    <tr>\n",
              "      <th>1</th>\n",
              "      <td>0</td>\n",
              "      <td>0</td>\n",
              "      <td>1</td>\n",
              "      <td>Winter</td>\n",
              "      <td>Queens</td>\n",
              "      <td>17.17</td>\n",
              "      <td>0.5365625</td>\n",
              "    </tr>\n",
              "    <tr>\n",
              "      <th>2</th>\n",
              "      <td>0</td>\n",
              "      <td>0</td>\n",
              "      <td>1</td>\n",
              "      <td>Winter</td>\n",
              "      <td>Brooklyn</td>\n",
              "      <td>8.89</td>\n",
              "      <td>0.3175</td>\n",
              "    </tr>\n",
              "    <tr>\n",
              "      <th>3</th>\n",
              "      <td>0</td>\n",
              "      <td>0</td>\n",
              "      <td>2</td>\n",
              "      <td>Winter</td>\n",
              "      <td>Manhattan</td>\n",
              "      <td>3.49</td>\n",
              "      <td>0.290833333</td>\n",
              "    </tr>\n",
              "    <tr>\n",
              "      <th>4</th>\n",
              "      <td>0</td>\n",
              "      <td>1</td>\n",
              "      <td>1</td>\n",
              "      <td>Winter</td>\n",
              "      <td>Brooklyn</td>\n",
              "      <td>9.4</td>\n",
              "      <td>0.447619048</td>\n",
              "    </tr>\n",
              "    <tr>\n",
              "      <th>...</th>\n",
              "      <td>...</td>\n",
              "      <td>...</td>\n",
              "      <td>...</td>\n",
              "      <td>...</td>\n",
              "      <td>...</td>\n",
              "      <td>...</td>\n",
              "      <td>...</td>\n",
              "    </tr>\n",
              "    <tr>\n",
              "      <th>95</th>\n",
              "      <td>0</td>\n",
              "      <td>0</td>\n",
              "      <td>1</td>\n",
              "      <td>Spring</td>\n",
              "      <td>Manhattan</td>\n",
              "      <td>10.37</td>\n",
              "      <td>0.235681818</td>\n",
              "    </tr>\n",
              "    <tr>\n",
              "      <th>96</th>\n",
              "      <td>1</td>\n",
              "      <td>1</td>\n",
              "      <td>1</td>\n",
              "      <td>Spring</td>\n",
              "      <td>Manhattan</td>\n",
              "      <td>7.46</td>\n",
              "      <td>0.286923077</td>\n",
              "    </tr>\n",
              "    <tr>\n",
              "      <th>97</th>\n",
              "      <td>0</td>\n",
              "      <td>0</td>\n",
              "      <td>1</td>\n",
              "      <td>Spring</td>\n",
              "      <td>Manhattan</td>\n",
              "      <td>6.19</td>\n",
              "      <td>0.143953488</td>\n",
              "    </tr>\n",
              "    <tr>\n",
              "      <th>98</th>\n",
              "      <td>1</td>\n",
              "      <td>1</td>\n",
              "      <td>1</td>\n",
              "      <td>Spring</td>\n",
              "      <td>Manhattan</td>\n",
              "      <td>7.6</td>\n",
              "      <td>0.2</td>\n",
              "    </tr>\n",
              "    <tr>\n",
              "      <th>99</th>\n",
              "      <td>0</td>\n",
              "      <td>0</td>\n",
              "      <td>1</td>\n",
              "      <td>Spring</td>\n",
              "      <td>Queens</td>\n",
              "      <td>9.1</td>\n",
              "      <td>0.325</td>\n",
              "    </tr>\n",
              "  </tbody>\n",
              "</table>\n",
              "<p>100 rows × 7 columns</p>\n",
              "</div>"
            ],
            "text/plain": [
              "    predicted_label  label trip_type  ...    borough trip_distance   trip_speed\n",
              "0                 0      0         1  ...     Queens         13.97        0.635\n",
              "1                 0      0         1  ...     Queens         17.17    0.5365625\n",
              "2                 0      0         1  ...   Brooklyn          8.89       0.3175\n",
              "3                 0      0         2  ...  Manhattan          3.49  0.290833333\n",
              "4                 0      1         1  ...   Brooklyn           9.4  0.447619048\n",
              "..              ...    ...       ...  ...        ...           ...          ...\n",
              "95                0      0         1  ...  Manhattan         10.37  0.235681818\n",
              "96                1      1         1  ...  Manhattan          7.46  0.286923077\n",
              "97                0      0         1  ...  Manhattan          6.19  0.143953488\n",
              "98                1      1         1  ...  Manhattan           7.6          0.2\n",
              "99                0      0         1  ...     Queens           9.1        0.325\n",
              "\n",
              "[100 rows x 7 columns]"
            ]
          },
          "metadata": {},
          "execution_count": 65
        }
      ]
    },
    {
      "cell_type": "markdown",
      "metadata": {
        "id": "UcSvn385mvpL"
      },
      "source": [
        "# Conclusion"
      ]
    },
    {
      "cell_type": "markdown",
      "metadata": {
        "id": "Sf7nQZE2mvpL"
      },
      "source": [
        "---\n",
        "\n",
        "To address the problem of exploring the correlations of trip characteristics with tip percentage, which is closely related to the customer experience, We overall considered **travel distance**, **travel time** which are the two very basic but essential aspects of a taxi trip. However, they certainly do not cover everything about a taxi trip, as they are very closely related to each other. Therefore, we engineered two extra features potentially related to customer experience: **travel speed** and **travel season**. Besides these features that might manifest the more subjective parts of a trip, we also explored some more objective features, such as the **pickup/dropoff borough**, **trip type**, **taxi type** and the **number of passengers**.\n",
        "\n",
        "To check if any correlation exists, we generally adopted the strategy of calcualting the average tip percentage for categories based on the feature we've chosen. For example, for the **travel season** feature, we divided the trips into 4 seasons and used the query to get the average tip percentage of each season. For numerical features that can not be easily categorized, we used both scatter plots and bar plots with ranges.\n",
        "\n",
        "A general summary of the exploration results of our features is shown below.\n",
        "\n",
        "**Features with porential correlations:**\n",
        "\n",
        "1. Trip Time: There is a obvious bell shape formed by the bars in the visualization\n",
        "2. Trip Distance: The overall tip percentage decreases with distance in the visualization\n",
        "3. Trip Speed: Tip percentage increases when the trip speed increase, but when the speed is too fast, the tip decreases, possibly due to safety reasons.\n",
        "4. Trip Color: Tip percentage of yellow taxis is much higher on average than that of green taxis shown in the visualization.\n",
        "5. Pickup/Dropoff Borough: The boroughs make a very big difference on the average tip percentage, as evident in the visualizations.\n",
        "6. Trip Season: The average tip percent increases as the temperature decreases with season variations.\n",
        "7. Trip Type: The average \"Street-Hail\" tip is much higher than that of the \"Dispatch\" shown in the visualization\n",
        "\n",
        "**Features without porential correlations:**\n",
        "1. Number of Passengers: There is no obvious trend observed in the visualization\n",
        "\n",
        "To adjust the scope of prediction to a proper size, we limited the number of features to be 5 and the training data to 10000 and 500000 for the regression and classification models respectively, which was discussed in more detail in the prediction section. We were able to achieve a Mean Absolute Error around 6 - 7 for the regression models and an Accuracy around 70% for the classification models, which is a decent performance considering the number of data points we used, which is also a good evidence that the features we selected are very likely to be correlated with the tip percentage. \n",
        "\n",
        "Even though the overall result of this project is reasonable, there are still several abberations in the dataset, such as the abnormally high tip percentage in some trips. Although we were able to spot and take care of this problem during the data exploration stage, we cannot guarantee similar problems do not exist in other features we used. Tip percentage is a very actually a very random subject, it could be affected by lots of other factors, like the passengers' mood, the talk they had during the trip, the financial states of the passengers. The dataset we adopted does not contain information that is able to manifest these aspects. \n",
        "\n",
        "There are also some future works that we identified to be worth doing during the project. For example, since we wanted to explore the effect of seasons, we could not divide the dataset by month. Instead we divided the dataset by the time in a day, which could possibly lead to a unevenly distributed dataset. We could try to split the data within each season and combine them together or use random sampling, but due to the time limit, we did not perform such trials. Since the dataset is very big with several millions of datapoints in total, we were only able to use a small part of that given the training time and power, which could also lead to undersampling, and we can improve on that in possible future works.\n",
        "\n",
        "\n",
        "\n",
        "---"
      ]
    }
  ]
}